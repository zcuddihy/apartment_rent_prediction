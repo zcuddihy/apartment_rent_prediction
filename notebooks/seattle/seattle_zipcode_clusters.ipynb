{
 "cells": [
  {
   "cell_type": "code",
   "execution_count": 13,
   "metadata": {},
   "outputs": [],
   "source": [
    "from sklearn.cluster import KMeans\n",
    "import pandas as pd\n",
    "import matplotlib.pyplot as plt\n",
    "import plotly.express as px\n",
    "import json\n",
    "import pickle as pkl\n",
    "from shapely.geometry import Polygon, Point\n",
    "import numpy as np"
   ]
  },
  {
   "cell_type": "markdown",
   "metadata": {},
   "source": [
    "# Load the zipcode data set"
   ]
  },
  {
   "cell_type": "code",
   "execution_count": 14,
   "metadata": {},
   "outputs": [],
   "source": [
    "# Load the geojson of the zipcodes\n",
    "\n",
    "with open('./data/external/seattle-zipcodes.geojson') as f:\n",
    "    zipcodes = json.load(f)"
   ]
  },
  {
   "cell_type": "code",
   "execution_count": 15,
   "metadata": {},
   "outputs": [
    {
     "data": {
      "text/html": [
       "<div>\n",
       "<style scoped>\n",
       "    .dataframe tbody tr th:only-of-type {\n",
       "        vertical-align: middle;\n",
       "    }\n",
       "\n",
       "    .dataframe tbody tr th {\n",
       "        vertical-align: top;\n",
       "    }\n",
       "\n",
       "    .dataframe thead th {\n",
       "        text-align: right;\n",
       "    }\n",
       "</style>\n",
       "<table border=\"1\" class=\"dataframe\">\n",
       "  <thead>\n",
       "    <tr style=\"text-align: right;\">\n",
       "      <th></th>\n",
       "      <th>latitude</th>\n",
       "      <th>longitude</th>\n",
       "    </tr>\n",
       "  </thead>\n",
       "  <tbody>\n",
       "    <tr>\n",
       "      <th>98136</th>\n",
       "      <td>47.536759</td>\n",
       "      <td>-122.389865</td>\n",
       "    </tr>\n",
       "    <tr>\n",
       "      <th>98144</th>\n",
       "      <td>47.585815</td>\n",
       "      <td>-122.292670</td>\n",
       "    </tr>\n",
       "    <tr>\n",
       "      <th>98109</th>\n",
       "      <td>47.631592</td>\n",
       "      <td>-122.344166</td>\n",
       "    </tr>\n",
       "    <tr>\n",
       "      <th>98195</th>\n",
       "      <td>47.649253</td>\n",
       "      <td>-122.309195</td>\n",
       "    </tr>\n",
       "    <tr>\n",
       "      <th>98199</th>\n",
       "      <td>47.651392</td>\n",
       "      <td>-122.402693</td>\n",
       "    </tr>\n",
       "  </tbody>\n",
       "</table>\n",
       "</div>"
      ],
      "text/plain": [
       "        latitude   longitude\n",
       "98136  47.536759 -122.389865\n",
       "98144  47.585815 -122.292670\n",
       "98109  47.631592 -122.344166\n",
       "98195  47.649253 -122.309195\n",
       "98199  47.651392 -122.402693"
      ]
     },
     "execution_count": 15,
     "metadata": {},
     "output_type": "execute_result"
    }
   ],
   "source": [
    "# Extract the zipcode centroids for clustering\n",
    "zipcode_centroids = {}\n",
    "\n",
    "for zipcode in zipcodes['features']:\n",
    "    zipcode_id = zipcode['properties']['ZCTA5CE10']\n",
    "    poly = Polygon([tuple(corr) for corr in zipcode['geometry']['coordinates'][0]])\n",
    "    centroid = poly.centroid\n",
    "    \n",
    "    zipcode_centroids[zipcode_id] = {'latitude': centroid.y, 'longitude': centroid.x}\n",
    "    \n",
    "zipcode_centroids = pd.DataFrame.from_dict(zipcode_centroids, orient='index')\n",
    "zipcode_centroids.head()"
   ]
  },
  {
   "cell_type": "code",
   "execution_count": 16,
   "metadata": {},
   "outputs": [],
   "source": [
    "def zipcode_cluster():\n",
    "    # Find the optimal number of clusters to use\n",
    "    K_clusters = range(2,15)\n",
    "    lat_long = zipcode_centroids.iloc[:,0:2]\n",
    "\n",
    "    # Set the parameters for KMeans\n",
    "    kmeans_kwargs = {\"init\": \"random\",\n",
    "                    \"n_init\": 10,\n",
    "                    \"max_iter\": 1000,\n",
    "                    \"random_state\": 42}\n",
    "\n",
    "    sse =[]\n",
    "\n",
    "    for k in K_clusters:\n",
    "        kmeans = KMeans(n_clusters=k, **kmeans_kwargs)\n",
    "        kmeans.fit(lat_long)\n",
    "        sse.append(kmeans.inertia_)\n",
    "\n",
    "\n",
    "    plt.plot(K_clusters, sse)\n",
    "    plt.xlabel('Number of Clusters')\n",
    "    plt.ylabel('SSE')\n",
    "    plt.title(f'Elbow Curve')\n",
    "    plt.show()"
   ]
  },
  {
   "cell_type": "code",
   "execution_count": 17,
   "metadata": {},
   "outputs": [
    {
     "data": {
      "image/png": "[encoded data removed]",
      "text/plain": [
       "<Figure size 432x288 with 1 Axes>"
      ]
     },
     "metadata": {
      "needs_background": "light"
     },
     "output_type": "display_data"
    }
   ],
   "source": [
    "zipcode_cluster()"
   ]
  },
  {
   "cell_type": "code",
   "execution_count": 18,
   "metadata": {},
   "outputs": [],
   "source": [
    "def get_cluster_id():\n",
    "    pd.options.mode.chained_assignment = None\n",
    "    # Find the optimal number of clusters to use\n",
    "    lat_long = zipcode_centroids.iloc[:,0:2]\n",
    "\n",
    "    # Set the parameters for KMeans\n",
    "    kmeans_kwargs = {\"init\": \"random\",\n",
    "                    \"n_init\": 10,\n",
    "                    \"max_iter\": 1000,\n",
    "                    \"random_state\": 42}\n",
    "\n",
    "    \n",
    "    kmeans = KMeans(n_clusters=6, **kmeans_kwargs)\n",
    "    kmeans.fit(lat_long)\n",
    "\n",
    "    zipcode_centroids.loc[:,'cluster_id'] = kmeans.predict(lat_long)\n",
    "    pd.options.mode.chained_assignment = 'warn'\n",
    "    return zipcode_centroids['cluster_id'].to_dict()"
   ]
  },
  {
   "cell_type": "code",
   "execution_count": 19,
   "metadata": {},
   "outputs": [
    {
     "data": {
      "text/html": [
       "<div>\n",
       "<style scoped>\n",
       "    .dataframe tbody tr th:only-of-type {\n",
       "        vertical-align: middle;\n",
       "    }\n",
       "\n",
       "    .dataframe tbody tr th {\n",
       "        vertical-align: top;\n",
       "    }\n",
       "\n",
       "    .dataframe thead th {\n",
       "        text-align: right;\n",
       "    }\n",
       "</style>\n",
       "<table border=\"1\" class=\"dataframe\">\n",
       "  <thead>\n",
       "    <tr style=\"text-align: right;\">\n",
       "      <th></th>\n",
       "      <th>zipcode</th>\n",
       "      <th>latitude</th>\n",
       "      <th>longitude</th>\n",
       "      <th>cluster_id</th>\n",
       "    </tr>\n",
       "  </thead>\n",
       "  <tbody>\n",
       "    <tr>\n",
       "      <th>0</th>\n",
       "      <td>98136</td>\n",
       "      <td>47.536759</td>\n",
       "      <td>-122.389865</td>\n",
       "      <td>2</td>\n",
       "    </tr>\n",
       "    <tr>\n",
       "      <th>1</th>\n",
       "      <td>98144</td>\n",
       "      <td>47.585815</td>\n",
       "      <td>-122.292670</td>\n",
       "      <td>5</td>\n",
       "    </tr>\n",
       "    <tr>\n",
       "      <th>2</th>\n",
       "      <td>98109</td>\n",
       "      <td>47.631592</td>\n",
       "      <td>-122.344166</td>\n",
       "      <td>5</td>\n",
       "    </tr>\n",
       "    <tr>\n",
       "      <th>3</th>\n",
       "      <td>98195</td>\n",
       "      <td>47.649253</td>\n",
       "      <td>-122.309195</td>\n",
       "      <td>3</td>\n",
       "    </tr>\n",
       "    <tr>\n",
       "      <th>4</th>\n",
       "      <td>98199</td>\n",
       "      <td>47.651392</td>\n",
       "      <td>-122.402693</td>\n",
       "      <td>0</td>\n",
       "    </tr>\n",
       "  </tbody>\n",
       "</table>\n",
       "</div>"
      ],
      "text/plain": [
       "  zipcode   latitude   longitude  cluster_id\n",
       "0   98136  47.536759 -122.389865           2\n",
       "1   98144  47.585815 -122.292670           5\n",
       "2   98109  47.631592 -122.344166           5\n",
       "3   98195  47.649253 -122.309195           3\n",
       "4   98199  47.651392 -122.402693           0"
      ]
     },
     "execution_count": 19,
     "metadata": {},
     "output_type": "execute_result"
    }
   ],
   "source": [
    "# Map the clusters to the complete dataset\n",
    "clusters = get_cluster_id()\n",
    "zipcode_centroids['cluster_id']= zipcode_centroids.index.map(clusters)\n",
    "zipcode_centroids.reset_index(inplace=True)\n",
    "zipcode_centroids.rename(columns={'index':'zipcode'}, inplace=True)\n",
    "zipcode_centroids.head()"
   ]
  },
  {
   "cell_type": "markdown",
   "metadata": {},
   "source": [
    "# Visualize the clusters"
   ]
  },
  {
   "cell_type": "code",
   "execution_count": 20,
   "metadata": {},
   "outputs": [
    {
     "data": {
      "application/vnd.plotly.v1+json": {
       "config": {
        "plotlyServerURL": "https://plot.ly"
       },
       "data": [
        {
         "coloraxis": "coloraxis",
         "featureidkey": "properties.ZCTA5CE10",
         "geojson": {
          "features": [
           {
            "geometry": {
             "coordinates": [
              [
               [
                -122.398693,
                47.557501
               ],
               [
                -122.381464,
                47.557458
               ],
               [
                -122.381528,
                47.555628
               ],
               [
                -122.380783,
                47.555636
               ],
               [
                -122.380372,
                47.550202
               ],
               [
                -122.381717,
                47.550223
               ],
               [
                -122.381857,
                47.546605
               ],
               [
                -122.381172,
                47.541204
               ],
               [
                -122.382081,
                47.522915
               ],
               [
                -122.380735,
                47.5229
               ],
               [
                -122.381575,
                47.52073
               ],
               [
                -122.381858,
                47.513751
               ],
               [
                -122.390738,
                47.513814
               ],
               [
                -122.390491,
                47.512118
               ],
               [
                -122.391813,
                47.513804
               ],
               [
                -122.39586529922,
                47.513767291645195
               ],
               [
                -122.396538,
                47.51522
               ],
               [
                -122.398805,
                47.517437
               ],
               [
                -122.39521,
                47.520123
               ],
               [
                -122.393938,
                47.52482
               ],
               [
                -122.401104,
                47.529908
               ],
               [
                -122.40063631785502,
                47.530503533080896
               ],
               [
                -122.398676444139,
                47.5329991802749
               ],
               [
                -122.396729,
                47.535479
               ],
               [
                -122.399438,
                47.54582
               ],
               [
                -122.398338,
                47.55012
               ],
               [
                -122.402035002003,
                47.556732546304296
               ],
               [
                -122.398693,
                47.557501
               ]
              ]
             ],
             "type": "Polygon"
            },
            "properties": {
             "AFFGEOID10": "8600000US98136",
             "ALAND10": 5954030,
             "AWATER10": 2163632,
             "GEOID10": "98136",
             "ZCTA5CE10": "98136"
            },
            "type": "Feature"
           },
           {
            "geometry": {
             "coordinates": [
              [
               [
                -122.32054,
                47.592244
               ],
               [
                -122.319253,
                47.595823
               ],
               [
                -122.317257,
                47.595819
               ],
               [
                -122.317194,
                47.600264
               ],
               [
                -122.316967,
                47.600851
               ],
               [
                -122.308965,
                47.600837
               ],
               [
                -122.308968,
                47.599999
               ],
               [
                -122.307662,
                47.599997
               ],
               [
                -122.307659,
                47.601674
               ],
               [
                -122.304344,
                47.600829
               ],
               [
                -122.303741,
                47.601667
               ],
               [
                -122.299973,
                47.601661
               ],
               [
                -122.299987,
                47.600865
               ],
               [
                -122.29677,
                47.601654
               ],
               [
                -122.267635,
                47.601521
               ],
               [
                -122.268141,
                47.589314
               ],
               [
                -122.262134,
                47.575921
               ],
               [
                -122.262258,
                47.575662
               ],
               [
                -122.276635,
                47.570762
               ],
               [
                -122.277683,
                47.570024
               ],
               [
                -122.282872,
                47.570679
               ],
               [
                -122.282871,
                47.56976
               ],
               [
                -122.290701,
                47.569769
               ],
               [
                -122.292075,
                47.570186
               ],
               [
                -122.29554,
                47.56986
               ],
               [
                -122.29682,
                47.571624
               ],
               [
                -122.296812,
                47.571975
               ],
               [
                -122.299139,
                47.572547
               ],
               [
                -122.299136,
                47.569578
               ],
               [
                -122.301778,
                47.57095
               ],
               [
                -122.301748,
                47.571923
               ],
               [
                -122.311409,
                47.571901
               ],
               [
                -122.313416,
                47.57106
               ],
               [
                -122.313446,
                47.568993
               ],
               [
                -122.315379,
                47.569046
               ],
               [
                -122.316418,
                47.570166
               ],
               [
                -122.319606,
                47.57001
               ],
               [
                -122.319995,
                47.568601
               ],
               [
                -122.320091,
                47.572433
               ],
               [
                -122.319896,
                47.575963
               ],
               [
                -122.318966,
                47.579208
               ],
               [
                -122.32006,
                47.586087
               ],
               [
                -122.317303,
                47.583705
               ],
               [
                -122.317995,
                47.58638
               ],
               [
                -122.317282,
                47.589986
               ],
               [
                -122.320344,
                47.59129
               ],
               [
                -122.32054,
                47.592244
               ]
              ]
             ],
             "type": "Polygon"
            },
            "properties": {
             "AFFGEOID10": "8600000US98144",
             "ALAND10": 8812564,
             "AWATER10": 4545367,
             "GEOID10": "98144",
             "ZCTA5CE10": "98144"
            },
            "type": "Feature"
           },
           {
            "geometry": {
             "coordinates": [
              [
               [
                -122.360539,
                47.65292
               ],
               [
                -122.354463,
                47.649932
               ],
               [
                -122.34704,
                47.646709
               ],
               [
                -122.338338,
                47.63952
               ],
               [
                -122.337538,
                47.63972
               ],
               [
                -122.329691,
                47.639759
               ],
               [
                -122.330437,
                47.63622
               ],
               [
                -122.327937,
                47.63512
               ],
               [
                -122.327437,
                47.63362
               ],
               [
                -122.330437,
                47.63432
               ],
               [
                -122.326956,
                47.632469
               ],
               [
                -122.324057,
                47.632256
               ],
               [
                -122.328269,
                47.62815
               ],
               [
                -122.328298,
                47.61848
               ],
               [
                -122.329872,
                47.618432
               ],
               [
                -122.334304,
                47.618529
               ],
               [
                -122.352841,
                47.61859
               ],
               [
                -122.353833,
                47.617698
               ],
               [
                -122.357363,
                47.618608
               ],
               [
                -122.358037,
                47.622112
               ],
               [
                -122.356731,
                47.622107
               ],
               [
                -122.356691,
                47.627191
               ],
               [
                -122.357997,
                47.627194
               ],
               [
                -122.3579,
                47.631308
               ],
               [
                -122.358297,
                47.635954
               ],
               [
                -122.356957,
                47.635954
               ],
               [
                -122.356914,
                47.639594
               ],
               [
                -122.358252,
                47.639595
               ],
               [
                -122.35824,
                47.641431
               ],
               [
                -122.356901,
                47.641432
               ],
               [
                -122.356868,
                47.64689
               ],
               [
                -122.357681,
                47.650379
               ],
               [
                -122.357228,
                47.650374
               ],
               [
                -122.360756,
                47.651778
               ],
               [
                -122.360539,
                47.65292
               ]
              ]
             ],
             "type": "Polygon"
            },
            "properties": {
             "AFFGEOID10": "8600000US98109",
             "ALAND10": 5178198,
             "AWATER10": 1091119,
             "GEOID10": "98109",
             "ZCTA5CE10": "98109"
            },
            "type": "Feature"
           },
           {
            "geometry": {
             "coordinates": [
              [
               [
                -122.312206,
                47.652846
               ],
               [
                -122.304644,
                47.649039
               ],
               [
                -122.304698,
                47.647415
               ],
               [
                -122.310437,
                47.64712
               ],
               [
                -122.312412,
                47.647196
               ],
               [
                -122.312206,
                47.652846
               ]
              ]
             ],
             "type": "Polygon"
            },
            "properties": {
             "AFFGEOID10": "8600000US98195",
             "ALAND10": 180879,
             "AWATER10": 52419,
             "GEOID10": "98195",
             "ZCTA5CE10": "98195"
            },
            "type": "Feature"
           },
           {
            "geometry": {
             "coordinates": [
              [
               [
                -122.436941,
                47.661719
               ],
               [
                -122.425506,
                47.664709
               ],
               [
                -122.42269,
                47.666614
               ],
               [
                -122.41584,
                47.670622
               ],
               [
                -122.409185,
                47.671743
               ],
               [
                -122.40928356791801,
                47.6726728586078
               ],
               [
                -122.406673,
                47.670744
               ],
               [
                -122.403623,
                47.666714
               ],
               [
                -122.393682,
                47.66368
               ],
               [
                -122.392511,
                47.664015
               ],
               [
                -122.39122,
                47.663839
               ],
               [
                -122.387155,
                47.662714
               ],
               [
                -122.384078,
                47.660838
               ],
               [
                -122.382403,
                47.659159
               ],
               [
                -122.38259,
                47.655568
               ],
               [
                -122.380606,
                47.653994
               ],
               [
                -122.384618,
                47.653977
               ],
               [
                -122.381992,
                47.650518
               ],
               [
                -122.382014,
                47.648459
               ],
               [
                -122.380217,
                47.648463
               ],
               [
                -122.380507,
                47.640804
               ],
               [
                -122.380442,
                47.636126
               ],
               [
                -122.379074,
                47.633442
               ],
               [
                -122.387606,
                47.633474
               ],
               [
                -122.391159,
                47.632323
               ],
               [
                -122.389634312385,
                47.6306239135639
               ],
               [
                -122.391835,
                47.629953
               ],
               [
                -122.3954,
                47.630594
               ],
               [
                -122.40424,
                47.63392
               ],
               [
                -122.414645,
                47.639766
               ],
               [
                -122.418271,
                47.644445
               ],
               [
                -122.41784,
                47.648419
               ],
               [
                -122.421366639946,
                47.652948537554494
               ],
               [
                -122.421367,
                47.652949
               ],
               [
                -122.429841,
                47.658919
               ],
               [
                -122.436941,
                47.661719
               ]
              ]
             ],
             "type": "Polygon"
            },
            "properties": {
             "AFFGEOID10": "8600000US98199",
             "ALAND10": 10848073,
             "AWATER10": 3887509,
             "GEOID10": "98199",
             "ZCTA5CE10": "98199"
            },
            "type": "Feature"
           },
           {
            "geometry": {
             "coordinates": [
              [
               [
                -122.344937,
                47.60912
               ],
               [
                -122.334346,
                47.617464
               ],
               [
                -122.334304,
                47.618529
               ],
               [
                -122.329872,
                47.618432
               ],
               [
                -122.328298,
                47.61848
               ],
               [
                -122.327855,
                47.618495
               ],
               [
                -122.327923,
                47.614056
               ],
               [
                -122.326886,
                47.612957
               ],
               [
                -122.323115,
                47.612157
               ],
               [
                -122.323572,
                47.610979
               ],
               [
                -122.333564,
                47.606799
               ],
               [
                -122.334674,
                47.606336
               ],
               [
                -122.339093,
                47.604486
               ],
               [
                -122.339299,
                47.604544
               ],
               [
                -122.340937,
                47.60502
               ],
               [
                -122.341737,
                47.60522
               ],
               [
                -122.34232527460901,
                47.6043015014773
               ],
               [
                -122.34457421116402,
                47.608450673325194
               ],
               [
                -122.344937,
                47.60912
               ]
              ]
             ],
             "type": "Polygon"
            },
            "properties": {
             "AFFGEOID10": "8600000US98101",
             "ALAND10": 1344747,
             "AWATER10": 271084,
             "GEOID10": "98101",
             "ZCTA5CE10": "98101"
            },
            "type": "Feature"
           },
           {
            "geometry": {
             "coordinates": [
              [
               [
                -122.337538,
                47.63972
               ],
               [
                -122.326537,
                47.65032
               ],
               [
                -122.322227,
                47.653024
               ],
               [
                -122.319939,
                47.652826
               ],
               [
                -122.313037,
                47.64722
               ],
               [
                -122.312412,
                47.647196
               ],
               [
                -122.310437,
                47.64712
               ],
               [
                -122.31085,
                47.643123
               ],
               [
                -122.313365,
                47.643077
               ],
               [
                -122.313851,
                47.642204
               ],
               [
                -122.314428,
                47.641661
               ],
               [
                -122.313522,
                47.641047
               ],
               [
                -122.313129,
                47.640004
               ],
               [
                -122.313669,
                47.639678
               ],
               [
                -122.315635,
                47.641555
               ],
               [
                -122.317951,
                47.64257
               ],
               [
                -122.317952,
                47.640849
               ],
               [
                -122.316044,
                47.640738
               ],
               [
                -122.316037,
                47.639557
               ],
               [
                -122.315224,
                47.637238
               ],
               [
                -122.31733,
                47.63724
               ],
               [
                -122.317227,
                47.63606
               ],
               [
                -122.313609,
                47.635984
               ],
               [
                -122.312483,
                47.633764
               ],
               [
                -122.313487,
                47.631806
               ],
               [
                -122.316509,
                47.631822
               ],
               [
                -122.318091,
                47.62988
               ],
               [
                -122.318038,
                47.628439
               ],
               [
                -122.314571,
                47.628415
               ],
               [
                -122.315687,
                47.624259
               ],
               [
                -122.315606,
                47.618776
               ],
               [
                -122.320856,
                47.618738
               ],
               [
                -122.324011,
                47.618507
               ],
               [
                -122.324259,
                47.619573
               ],
               [
                -122.327855,
                47.618495
               ],
               [
                -122.328298,
                47.61848
               ],
               [
                -122.328269,
                47.62815
               ],
               [
                -122.324057,
                47.632256
               ],
               [
                -122.326956,
                47.632469
               ],
               [
                -122.330437,
                47.63432
               ],
               [
                -122.327437,
                47.63362
               ],
               [
                -122.327937,
                47.63512
               ],
               [
                -122.330437,
                47.63622
               ],
               [
                -122.329691,
                47.639759
               ],
               [
                -122.337538,
                47.63972
               ]
              ]
             ],
             "type": "Polygon"
            },
            "properties": {
             "AFFGEOID10": "8600000US98102",
             "ALAND10": 3332468,
             "AWATER10": 695816,
             "GEOID10": "98102",
             "ZCTA5CE10": "98102"
            },
            "type": "Feature"
           },
           {
            "geometry": {
             "coordinates": [
              [
               [
                -122.362298457347,
                47.6190119407141
               ],
               [
                -122.359864,
                47.618585
               ],
               [
                -122.357363,
                47.618608
               ],
               [
                -122.353833,
                47.617698
               ],
               [
                -122.352841,
                47.61859
               ],
               [
                -122.334304,
                47.618529
               ],
               [
                -122.334346,
                47.617464
               ],
               [
                -122.344937,
                47.60912
               ],
               [
                -122.34493864896001,
                47.6091208760351
               ],
               [
                -122.353093,
                47.613453
               ],
               [
                -122.358397718168,
                47.6166563838936
               ],
               [
                -122.361025797991,
                47.6182434142144
               ],
               [
                -122.361823642306,
                47.6187252120307
               ],
               [
                -122.362298457347,
                47.6190119407141
               ]
              ]
             ],
             "type": "Polygon"
            },
            "properties": {
             "AFFGEOID10": "8600000US98121",
             "ALAND10": 1141210,
             "AWATER10": 546001,
             "GEOID10": "98121",
             "ZCTA5CE10": "98121"
            },
            "type": "Feature"
           },
           {
            "geometry": {
             "coordinates": [
              [
               [
                -122.333564,
                47.606799
               ],
               [
                -122.332911,
                47.606086
               ],
               [
                -122.334674,
                47.606336
               ],
               [
                -122.333564,
                47.606799
               ]
              ]
             ],
             "type": "Polygon"
            },
            "properties": {
             "AFFGEOID10": "8600000US98154",
             "ALAND10": 9147,
             "AWATER10": 0,
             "GEOID10": "98154",
             "ZCTA5CE10": "98154"
            },
            "type": "Feature"
           },
           {
            "geometry": {
             "coordinates": [
              [
               [
                -122.332911,
                47.606086
               ],
               [
                -122.3318,
                47.606551
               ],
               [
                -122.331148,
                47.605837
               ],
               [
                -122.332258,
                47.605372
               ],
               [
                -122.332911,
                47.606086
               ]
              ]
             ],
             "type": "Polygon"
            },
            "properties": {
             "AFFGEOID10": "8600000US98164",
             "ALAND10": 9165,
             "AWATER10": 0,
             "GEOID10": "98164",
             "ZCTA5CE10": "98164"
            },
            "type": "Feature"
           },
           {
            "geometry": {
             "coordinates": [
              [
               [
                -122.415048884331,
                47.578512845274005
               ],
               [
                -122.401839,
                47.58392
               ],
               [
                -122.396054939085,
                47.5885635963121
               ],
               [
                -122.39149995535901,
                47.5922204571123
               ],
               [
                -122.391366,
                47.592328
               ],
               [
                -122.388801922298,
                47.59438557075129
               ],
               [
                -122.387139,
                47.59572
               ],
               [
                -122.381738,
                47.59392
               ],
               [
                -122.381175,
                47.590356
               ],
               [
                -122.382029,
                47.588771
               ],
               [
                -122.379983,
                47.587983
               ],
               [
                -122.37907,
                47.584903
               ],
               [
                -122.382251,
                47.581161
               ],
               [
                -122.381237,
                47.581186
               ],
               [
                -122.380806,
                47.575591
               ],
               [
                -122.380858,
                47.570204
               ],
               [
                -122.380088,
                47.568365
               ],
               [
                -122.38154,
                47.566411
               ],
               [
                -122.38155,
                47.56468
               ],
               [
                -122.380092,
                47.564679
               ],
               [
                -122.380094,
                47.562871
               ],
               [
                -122.381455,
                47.562872
               ],
               [
                -122.381459,
                47.559252
               ],
               [
                -122.380199,
                47.559231
               ],
               [
                -122.380204,
                47.557451
               ],
               [
                -122.381464,
                47.557458
               ],
               [
                -122.398693,
                47.557501
               ],
               [
                -122.402035002003,
                47.556732546304296
               ],
               [
                -122.402364,
                47.557321
               ],
               [
                -122.404188461982,
                47.5595966916306
               ],
               [
                -122.409739,
                47.56652
               ],
               [
                -122.409839,
                47.56892
               ],
               [
                -122.421139,
                47.57602
               ],
               [
                -122.415048884331,
                47.578512845274005
               ]
              ]
             ],
             "type": "Polygon"
            },
            "properties": {
             "AFFGEOID10": "8600000US98116",
             "ALAND10": 7657205,
             "AWATER10": 1880414,
             "GEOID10": "98116",
             "ZCTA5CE10": "98116"
            },
            "type": "Feature"
           },
           {
            "geometry": {
             "coordinates": [
              [
               [
                -122.382251,
                47.581161
               ],
               [
                -122.37907,
                47.584903
               ],
               [
                -122.379983,
                47.587983
               ],
               [
                -122.382029,
                47.588771
               ],
               [
                -122.381175,
                47.590356
               ],
               [
                -122.375421,
                47.585181
               ],
               [
                -122.37400329157401,
                47.5846159673687
               ],
               [
                -122.370167,
                47.583087
               ],
               [
                -122.368538,
                47.584881
               ],
               [
                -122.362125,
                47.583802
               ],
               [
                -122.36149225132101,
                47.584228741607895
               ],
               [
                -122.36204,
                47.582227
               ],
               [
                -122.367605,
                47.582138
               ],
               [
                -122.372872,
                47.581296
               ],
               [
                -122.372517,
                47.578693
               ],
               [
                -122.371458,
                47.576811
               ],
               [
                -122.370705,
                47.57175
               ],
               [
                -122.362121,
                47.57142
               ],
               [
                -122.36225,
                47.57016
               ],
               [
                -122.364358,
                47.569634
               ],
               [
                -122.365431,
                47.568343
               ],
               [
                -122.365461,
                47.564724
               ],
               [
                -122.371966,
                47.564697
               ],
               [
                -122.3732,
                47.562239
               ],
               [
                -122.376049,
                47.562045
               ],
               [
                -122.376238,
                47.558655
               ],
               [
                -122.375474,
                47.557923
               ],
               [
                -122.375142,
                47.553776
               ],
               [
                -122.36842,
                47.553783
               ],
               [
                -122.368478,
                47.550017
               ],
               [
                -122.365581,
                47.55001
               ],
               [
                -122.36573,
                47.539878
               ],
               [
                -122.368921,
                47.540387
               ],
               [
                -122.366838,
                47.538494
               ],
               [
                -122.367475,
                47.537938
               ],
               [
                -122.366458,
                47.535527
               ],
               [
                -122.364475,
                47.535521
               ],
               [
                -122.364157,
                47.533697
               ],
               [
                -122.365818,
                47.533701
               ],
               [
                -122.36584,
                47.531879
               ],
               [
                -122.367189,
                47.531883
               ],
               [
                -122.367206,
                47.528279
               ],
               [
                -122.371248,
                47.528281
               ],
               [
                -122.371254,
                47.526473
               ],
               [
                -122.369908,
                47.526475
               ],
               [
                -122.369914,
                47.524668
               ],
               [
                -122.364529,
                47.524682
               ],
               [
                -122.365849,
                47.521692
               ],
               [
                -122.365915,
                47.517361
               ],
               [
                -122.367695,
                47.517381
               ],
               [
                -122.367216,
                47.513916
               ],
               [
                -122.368442,
                47.512299
               ],
               [
                -122.371,
                47.51229
               ],
               [
                -122.371104,
                47.513705
               ],
               [
                -122.376743,
                47.513723
               ],
               [
                -122.378222,
                47.514298
               ],
               [
                -122.381858,
                47.513751
               ],
               [
                -122.381575,
                47.52073
               ],
               [
                -122.380735,
                47.5229
               ],
               [
                -122.382081,
                47.522915
               ],
               [
                -122.381172,
                47.541204
               ],
               [
                -122.381857,
                47.546605
               ],
               [
                -122.381717,
                47.550223
               ],
               [
                -122.380372,
                47.550202
               ],
               [
                -122.380783,
                47.555636
               ],
               [
                -122.381528,
                47.555628
               ],
               [
                -122.381464,
                47.557458
               ],
               [
                -122.380204,
                47.557451
               ],
               [
                -122.380199,
                47.559231
               ],
               [
                -122.381459,
                47.559252
               ],
               [
                -122.381455,
                47.562872
               ],
               [
                -122.380094,
                47.562871
               ],
               [
                -122.380092,
                47.564679
               ],
               [
                -122.38155,
                47.56468
               ],
               [
                -122.38154,
                47.566411
               ],
               [
                -122.380088,
                47.568365
               ],
               [
                -122.380858,
                47.570204
               ],
               [
                -122.380806,
                47.575591
               ],
               [
                -122.381237,
                47.581186
               ],
               [
                -122.382251,
                47.581161
               ]
              ]
             ],
             "type": "Polygon"
            },
            "properties": {
             "AFFGEOID10": "8600000US98126",
             "ALAND10": 7961316,
             "AWATER10": 1777438,
             "GEOID10": "98126",
             "ZCTA5CE10": "98126"
            },
            "type": "Feature"
           },
           {
            "geometry": {
             "coordinates": [
              [
               [
                -122.40961916965901,
                47.6758388194588
               ],
               [
                -122.406325,
                47.675823
               ],
               [
                -122.405395,
                47.6769
               ],
               [
                -122.405052,
                47.675163
               ],
               [
                -122.403497,
                47.675817
               ],
               [
                -122.398367,
                47.675862
               ],
               [
                -122.392958,
                47.675904
               ],
               [
                -122.392991,
                47.675204
               ],
               [
                -122.39011,
                47.675243
               ],
               [
                -122.390105,
                47.675927
               ],
               [
                -122.384741,
                47.675966
               ],
               [
                -122.384741,
                47.675285
               ],
               [
                -122.382125,
                47.675283
               ],
               [
                -122.382129,
                47.675984
               ],
               [
                -122.378882,
                47.675993
               ],
               [
                -122.378882,
                47.675279
               ],
               [
                -122.376212,
                47.675278
               ],
               [
                -122.376117,
                47.675992
               ],
               [
                -122.357441,
                47.675997
               ],
               [
                -122.357718,
                47.670645
               ],
               [
                -122.356538,
                47.670293
               ],
               [
                -122.357385,
                47.666356
               ],
               [
                -122.357193,
                47.654149
               ],
               [
                -122.357666,
                47.652129
               ],
               [
                -122.359398,
                47.652676
               ],
               [
                -122.354463,
                47.649932
               ],
               [
                -122.360539,
                47.65292
               ],
               [
                -122.367339,
                47.65642
               ],
               [
                -122.376027,
                47.659319
               ],
               [
                -122.380401,
                47.660075
               ],
               [
                -122.38744,
                47.66322
               ],
               [
                -122.39122,
                47.663839
               ],
               [
                -122.392511,
                47.664015
               ],
               [
                -122.393682,
                47.66368
               ],
               [
                -122.403623,
                47.666714
               ],
               [
                -122.406673,
                47.670744
               ],
               [
                -122.40928356791801,
                47.6726728586078
               ],
               [
                -122.40944244395,
                47.674171644930205
               ],
               [
                -122.40960180560701,
                47.675675012469796
               ],
               [
                -122.40961916965901,
                47.6758388194588
               ]
              ]
             ],
             "type": "Polygon"
            },
            "properties": {
             "AFFGEOID10": "8600000US98107",
             "ALAND10": 5678076,
             "AWATER10": 730151,
             "GEOID10": "98107",
             "ZCTA5CE10": "98107"
            },
            "type": "Feature"
           },
           {
            "geometry": {
             "coordinates": [
              [
               [
                -122.38744,
                47.66322
               ],
               [
                -122.380401,
                47.660075
               ],
               [
                -122.376027,
                47.659319
               ],
               [
                -122.367339,
                47.65642
               ],
               [
                -122.360539,
                47.65292
               ],
               [
                -122.360756,
                47.651778
               ],
               [
                -122.357228,
                47.650374
               ],
               [
                -122.357681,
                47.650379
               ],
               [
                -122.356868,
                47.64689
               ],
               [
                -122.356901,
                47.641432
               ],
               [
                -122.35824,
                47.641431
               ],
               [
                -122.358252,
                47.639595
               ],
               [
                -122.356914,
                47.639594
               ],
               [
                -122.356957,
                47.635954
               ],
               [
                -122.358297,
                47.635954
               ],
               [
                -122.3579,
                47.631308
               ],
               [
                -122.357997,
                47.627194
               ],
               [
                -122.356691,
                47.627191
               ],
               [
                -122.356731,
                47.622107
               ],
               [
                -122.358037,
                47.622112
               ],
               [
                -122.357363,
                47.618608
               ],
               [
                -122.359864,
                47.618585
               ],
               [
                -122.362298457347,
                47.6190119407141
               ],
               [
                -122.364501,
                47.620342
               ],
               [
                -122.369231622255,
                47.6243788310131
               ],
               [
                -122.370174,
                47.625183
               ],
               [
                -122.377939,
                47.62652
               ],
               [
                -122.383739,
                47.62632
               ],
               [
                -122.383991,
                47.631875
               ],
               [
                -122.38602669506301,
                47.6317209312818
               ],
               [
                -122.386039,
                47.63172
               ],
               [
                -122.389634312385,
                47.6306239135639
               ],
               [
                -122.391159,
                47.632323
               ],
               [
                -122.387606,
                47.633474
               ],
               [
                -122.379074,
                47.633442
               ],
               [
                -122.380442,
                47.636126
               ],
               [
                -122.380507,
                47.640804
               ],
               [
                -122.380217,
                47.648463
               ],
               [
                -122.382014,
                47.648459
               ],
               [
                -122.381992,
                47.650518
               ],
               [
                -122.384618,
                47.653977
               ],
               [
                -122.380606,
                47.653994
               ],
               [
                -122.38259,
                47.655568
               ],
               [
                -122.382403,
                47.659159
               ],
               [
                -122.384078,
                47.660838
               ],
               [
                -122.387155,
                47.662714
               ],
               [
                -122.39122,
                47.663839
               ],
               [
                -122.38744,
                47.66322
               ]
              ]
             ],
             "type": "Polygon"
            },
            "properties": {
             "AFFGEOID10": "8600000US98119",
             "ALAND10": 6312656,
             "AWATER10": 1591192,
             "GEOID10": "98119",
             "ZCTA5CE10": "98119"
            },
            "type": "Feature"
           },
           {
            "geometry": {
             "coordinates": [
              [
               [
                -122.369564,
                47.75281
               ],
               [
                -122.36504,
                47.754219
               ],
               [
                -122.364439,
                47.755975
               ],
               [
                -122.361166,
                47.755952
               ],
               [
                -122.361142,
                47.753705
               ],
               [
                -122.358371,
                47.751444
               ],
               [
                -122.356927,
                47.753979
               ],
               [
                -122.357042,
                47.7555
               ],
               [
                -122.358467,
                47.755597
               ],
               [
                -122.358419,
                47.764981
               ],
               [
                -122.357496,
                47.766846
               ],
               [
                -122.358502,
                47.76686
               ],
               [
                -122.358531,
                47.770486
               ],
               [
                -122.357526,
                47.771092
               ],
               [
                -122.357289,
                47.775468
               ],
               [
                -122.358265,
                47.775485
               ],
               [
                -122.358667,
                47.777766
               ],
               [
                -122.356209,
                47.777766
               ],
               [
                -122.335323,
                47.77777
               ],
               [
                -122.329939,
                47.77762
               ],
               [
                -122.330248,
                47.763252
               ],
               [
                -122.330405,
                47.760214
               ],
               [
                -122.329497,
                47.757752
               ],
               [
                -122.330546,
                47.753294
               ],
               [
                -122.329088,
                47.749736
               ],
               [
                -122.328967,
                47.747373
               ],
               [
                -122.329705,
                47.743234
               ],
               [
                -122.328966,
                47.741367
               ],
               [
                -122.329883,
                47.741142
               ],
               [
                -122.329049,
                47.739856
               ],
               [
                -122.328881,
                47.734093
               ],
               [
                -122.328873,
                47.728624
               ],
               [
                -122.33025,
                47.727263
               ],
               [
                -122.32887,
                47.726802
               ],
               [
                -122.328969,
                47.719522
               ],
               [
                -122.328181,
                47.712312
               ],
               [
                -122.329584,
                47.709975
               ],
               [
                -122.329289,
                47.701432
               ],
               [
                -122.329963,
                47.701439
               ],
               [
                -122.330551,
                47.70319
               ],
               [
                -122.333904,
                47.703218
               ],
               [
                -122.334296,
                47.702395
               ],
               [
                -122.33505,
                47.701394
               ],
               [
                -122.347346,
                47.701436
               ],
               [
                -122.348405,
                47.700867
               ],
               [
                -122.350041,
                47.701444
               ],
               [
                -122.358076,
                47.701472
               ],
               [
                -122.355424,
                47.702184
               ],
               [
                -122.355439,
                47.703633
               ],
               [
                -122.360754,
                47.703666
               ],
               [
                -122.36076,
                47.704361
               ],
               [
                -122.357903,
                47.704365
               ],
               [
                -122.35815,
                47.708727
               ],
               [
                -122.356816,
                47.708719
               ],
               [
                -122.357729,
                47.710645
               ],
               [
                -122.357474,
                47.71598
               ],
               [
                -122.35825,
                47.721432
               ],
               [
                -122.356884,
                47.721424
               ],
               [
                -122.35825,
                47.725062
               ],
               [
                -122.358252,
                47.73232
               ],
               [
                -122.359169,
                47.734136
               ],
               [
                -122.355572,
                47.734129
               ],
               [
                -122.355634,
                47.741393
               ],
               [
                -122.358858,
                47.741414
               ],
               [
                -122.358892,
                47.745041
               ],
               [
                -122.355661,
                47.745038
               ],
               [
                -122.357804,
                47.746287
               ],
               [
                -122.362501,
                47.747195
               ],
               [
                -122.364044,
                47.748422
               ],
               [
                -122.367288,
                47.749108
               ],
               [
                -122.368772,
                47.750509
               ],
               [
                -122.370936,
                47.750934
               ],
               [
                -122.369564,
                47.75281
               ]
              ]
             ],
             "type": "Polygon"
            },
            "properties": {
             "AFFGEOID10": "8600000US98133",
             "ALAND10": 18376215,
             "AWATER10": 187304,
             "GEOID10": "98133",
             "ZCTA5CE10": "98133"
            },
            "type": "Feature"
           },
           {
            "geometry": {
             "coordinates": [
              [
               [
                -122.342737,
                47.55622
               ],
               [
                -122.338131,
                47.555743
               ],
               [
                -122.338248,
                47.549855
               ],
               [
                -122.335166,
                47.550094
               ],
               [
                -122.336952,
                47.553438
               ],
               [
                -122.335307,
                47.553441
               ],
               [
                -122.335287,
                47.555692
               ],
               [
                -122.329533,
                47.555651
               ],
               [
                -122.329376,
                47.567144
               ],
               [
                -122.326734,
                47.566846
               ],
               [
                -122.326765,
                47.569422
               ],
               [
                -122.325984,
                47.57062
               ],
               [
                -122.324054,
                47.569814
               ],
               [
                -122.321352,
                47.569833
               ],
               [
                -122.320834,
                47.567206
               ],
               [
                -122.320091,
                47.572433
               ],
               [
                -122.319995,
                47.568601
               ],
               [
                -122.319606,
                47.57001
               ],
               [
                -122.316418,
                47.570166
               ],
               [
                -122.315379,
                47.569046
               ],
               [
                -122.313446,
                47.568993
               ],
               [
                -122.313416,
                47.57106
               ],
               [
                -122.311409,
                47.571901
               ],
               [
                -122.301748,
                47.571923
               ],
               [
                -122.301778,
                47.57095
               ],
               [
                -122.299136,
                47.569578
               ],
               [
                -122.299139,
                47.572547
               ],
               [
                -122.296812,
                47.571975
               ],
               [
                -122.29682,
                47.571624
               ],
               [
                -122.29554,
                47.56986
               ],
               [
                -122.292075,
                47.570186
               ],
               [
                -122.291665,
                47.564417
               ],
               [
                -122.292433,
                47.564432
               ],
               [
                -122.291016,
                47.560762
               ],
               [
                -122.293365,
                47.560813
               ],
               [
                -122.29149,
                47.557863
               ],
               [
                -122.291522,
                47.544379
               ],
               [
                -122.29277,
                47.544245
               ],
               [
                -122.29279,
                47.54265
               ],
               [
                -122.291011,
                47.541329
               ],
               [
                -122.293314,
                47.541319
               ],
               [
                -122.293313,
                47.540318
               ],
               [
                -122.290596,
                47.540724
               ],
               [
                -122.291519,
                47.538867
               ],
               [
                -122.296084,
                47.538956
               ],
               [
                -122.293096,
                47.536972
               ],
               [
                -122.291364,
                47.537019
               ],
               [
                -122.291625,
                47.535699
               ],
               [
                -122.289183,
                47.533058
               ],
               [
                -122.290793,
                47.533066
               ],
               [
                -122.292261,
                47.527047
               ],
               [
                -122.293174,
                47.529289
               ],
               [
                -122.294458,
                47.530309
               ],
               [
                -122.296106,
                47.529972
               ],
               [
                -122.293634,
                47.524422
               ],
               [
                -122.291268,
                47.524382
               ],
               [
                -122.291325,
                47.511627
               ],
               [
                -122.293146,
                47.510822
               ],
               [
                -122.294756,
                47.510695
               ],
               [
                -122.299481,
                47.512201
               ],
               [
                -122.303951,
                47.512837
               ],
               [
                -122.307264,
                47.512828
               ],
               [
                -122.311297,
                47.515648
               ],
               [
                -122.310826,
                47.513376
               ],
               [
                -122.314722,
                47.513813
               ],
               [
                -122.334005,
                47.513865
               ],
               [
                -122.33704,
                47.513893
               ],
               [
                -122.337485,
                47.517258
               ],
               [
                -122.332538,
                47.517232
               ],
               [
                -122.333866,
                47.519824
               ],
               [
                -122.33436,
                47.520818
               ],
               [
                -122.334818,
                47.525424
               ],
               [
                -122.333742,
                47.526661
               ],
               [
                -122.334698,
                47.530153
               ],
               [
                -122.335081,
                47.539185
               ],
               [
                -122.337091,
                47.539772
               ],
               [
                -122.33626,
                47.542129
               ],
               [
                -122.334942,
                47.542826
               ],
               [
                -122.338436,
                47.546222
               ],
               [
                -122.342737,
                47.55622
               ]
              ]
             ],
             "type": "Polygon"
            },
            "properties": {
             "AFFGEOID10": "8600000US98108",
             "ALAND10": 19391826,
             "AWATER10": 964752,
             "GEOID10": "98108",
             "ZCTA5CE10": "98108"
            },
            "type": "Feature"
           },
           {
            "geometry": {
             "coordinates": [
              [
               [
                -122.283739,
                47.510063
               ],
               [
                -122.278544,
                47.509813
               ],
               [
                -122.278686,
                47.512082
               ],
               [
                -122.275158,
                47.511292
               ],
               [
                -122.270061,
                47.510963
               ],
               [
                -122.270062,
                47.510807
               ],
               [
                -122.267621,
                47.510818
               ],
               [
                -122.26761,
                47.511827
               ],
               [
                -122.264731,
                47.511815
               ],
               [
                -122.264747,
                47.509638
               ],
               [
                -122.262086,
                47.509686
               ],
               [
                -122.262066,
                47.51188
               ],
               [
                -122.259403,
                47.51012
               ],
               [
                -122.259387,
                47.511682
               ],
               [
                -122.252345,
                47.511644
               ],
               [
                -122.251424,
                47.51272
               ],
               [
                -122.249424,
                47.511137
               ],
               [
                -122.247874,
                47.508878
               ],
               [
                -122.248354,
                47.511589
               ],
               [
                -122.250515,
                47.513251
               ],
               [
                -122.23807,
                47.521323
               ],
               [
                -122.233233,
                47.518421
               ],
               [
                -122.225394,
                47.521368
               ],
               [
                -122.216608,
                47.501321
               ],
               [
                -122.219133,
                47.501021
               ],
               [
                -122.219578,
                47.497755
               ],
               [
                -122.220944,
                47.497966
               ],
               [
                -122.222297,
                47.496886
               ],
               [
                -122.221973,
                47.495307
               ],
               [
                -122.219622,
                47.495255
               ],
               [
                -122.219959,
                47.493425
               ],
               [
                -122.222927,
                47.493487
               ],
               [
                -122.223013,
                47.490887
               ],
               [
                -122.227586,
                47.490877
               ],
               [
                -122.227565,
                47.48938
               ],
               [
                -122.225325,
                47.488895
               ],
               [
                -122.225573,
                47.48719
               ],
               [
                -122.227555,
                47.48701
               ],
               [
                -122.22763,
                47.484564
               ],
               [
                -122.224831,
                47.483298
               ],
               [
                -122.221642,
                47.483379
               ],
               [
                -122.219817,
                47.48118
               ],
               [
                -122.231168,
                47.482707
               ],
               [
                -122.232744,
                47.479735
               ],
               [
                -122.235754,
                47.480961
               ],
               [
                -122.242793,
                47.481274
               ],
               [
                -122.24559,
                47.482058
               ],
               [
                -122.245819,
                47.479881
               ],
               [
                -122.249707,
                47.479875
               ],
               [
                -122.253378,
                47.479396
               ],
               [
                -122.254532,
                47.479926
               ],
               [
                -122.258235,
                47.484154
               ],
               [
                -122.259227,
                47.48416
               ],
               [
                -122.257793,
                47.482983
               ],
               [
                -122.253596,
                47.477545
               ],
               [
                -122.250906,
                47.474913
               ],
               [
                -122.251569,
                47.474808
               ],
               [
                -122.255056,
                47.477022
               ],
               [
                -122.258528,
                47.477467
               ],
               [
                -122.258157,
                47.47876
               ],
               [
                -122.255725,
                47.478951
               ],
               [
                -122.256573,
                47.480694
               ],
               [
                -122.259892,
                47.481255
               ],
               [
                -122.261145,
                47.482172
               ],
               [
                -122.259149,
                47.483599
               ],
               [
                -122.261054,
                47.484628
               ],
               [
                -122.263083,
                47.484686
               ],
               [
                -122.267513,
                47.482361
               ],
               [
                -122.268586,
                47.483983
               ],
               [
                -122.267135,
                47.485729
               ],
               [
                -122.265235,
                47.486734
               ],
               [
                -122.266075,
                47.488833
               ],
               [
                -122.267835,
                47.489244
               ],
               [
                -122.270075,
                47.488694
               ],
               [
                -122.271222,
                47.490541
               ],
               [
                -122.27335,
                47.491444
               ],
               [
                -122.28014,
                47.490201
               ],
               [
                -122.279493,
                47.492348
               ],
               [
                -122.279767,
                47.495188
               ],
               [
                -122.27882,
                47.50008
               ],
               [
                -122.2778,
                47.501266
               ],
               [
                -122.271056,
                47.495655
               ],
               [
                -122.270304,
                47.495648
               ],
               [
                -122.270294,
                47.496354
               ],
               [
                -122.277895,
                47.503539
               ],
               [
                -122.282607,
                47.507739
               ],
               [
                -122.283739,
                47.510063
               ]
              ]
             ],
             "type": "Polygon"
            },
            "properties": {
             "AFFGEOID10": "8600000US98178",
             "ALAND10": 12554856,
             "AWATER10": 2636151,
             "GEOID10": "98178",
             "ZCTA5CE10": "98178"
            },
            "type": "Feature"
           },
           {
            "geometry": {
             "coordinates": [
              [
               [
                -122.331366,
                47.650707
               ],
               [
                -122.329085,
                47.652452
               ],
               [
                -122.327904,
                47.65365
               ],
               [
                -122.328317,
                47.657782
               ],
               [
                -122.328296,
                47.666006
               ],
               [
                -122.329541,
                47.667902
               ],
               [
                -122.328267,
                47.667903
               ],
               [
                -122.328225,
                47.671567
               ],
               [
                -122.325521,
                47.671548
               ],
               [
                -122.325495,
                47.67226
               ],
               [
                -122.318995,
                47.672211
               ],
               [
                -122.317365,
                47.672267
               ],
               [
                -122.313015,
                47.671203
               ],
               [
                -122.311907,
                47.672104
               ],
               [
                -122.311919,
                47.673977
               ],
               [
                -122.310412,
                47.673973
               ],
               [
                -122.306511,
                47.67262
               ],
               [
                -122.306499,
                47.670672
               ],
               [
                -122.304131,
                47.670099
               ],
               [
                -122.303846,
                47.667921
               ],
               [
                -122.301074,
                47.668522
               ],
               [
                -122.301088,
                47.670656
               ],
               [
                -122.302959,
                47.672103
               ],
               [
                -122.29264,
                47.672146
               ],
               [
                -122.292643,
                47.670322
               ],
               [
                -122.291433,
                47.670321
               ],
               [
                -122.291431,
                47.672146
               ],
               [
                -122.279496,
                47.672146
               ],
               [
                -122.274673,
                47.673274
               ],
               [
                -122.275116,
                47.671776
               ],
               [
                -122.273846,
                47.672132
               ],
               [
                -122.256306,
                47.672068
               ],
               [
                -122.253986,
                47.674473
               ],
               [
                -122.251244,
                47.673683
               ],
               [
                -122.231435,
                47.66412
               ],
               [
                -122.238035,
                47.65922
               ],
               [
                -122.255735,
                47.64712
               ],
               [
                -122.285036,
                47.64752
               ],
               [
                -122.300269,
                47.647366
               ],
               [
                -122.304698,
                47.647415
               ],
               [
                -122.304644,
                47.649039
               ],
               [
                -122.312206,
                47.652846
               ],
               [
                -122.312412,
                47.647196
               ],
               [
                -122.313037,
                47.64722
               ],
               [
                -122.319939,
                47.652826
               ],
               [
                -122.322227,
                47.653024
               ],
               [
                -122.326537,
                47.65032
               ],
               [
                -122.32685,
                47.653615
               ],
               [
                -122.327874,
                47.653087
               ],
               [
                -122.330372,
                47.650944
               ],
               [
                -122.331366,
                47.650707
               ]
              ]
             ],
             "type": "Polygon"
            },
            "properties": {
             "AFFGEOID10": "8600000US98105",
             "ALAND10": 10680923,
             "AWATER10": 6443695,
             "GEOID10": "98105",
             "ZCTA5CE10": "98105"
            },
            "type": "Feature"
           },
           {
            "geometry": {
             "coordinates": [
              [
               [
                -122.329497,
                47.757752
               ],
               [
                -122.330405,
                47.760214
               ],
               [
                -122.330248,
                47.763252
               ],
               [
                -122.329939,
                47.77762
               ],
               [
                -122.327304,
                47.777652
               ],
               [
                -122.315248,
                47.777619
               ],
               [
                -122.31409,
                47.777449
               ],
               [
                -122.28704,
                47.777242
               ],
               [
                -122.279854,
                47.777019
               ],
               [
                -122.270957,
                47.777019
               ],
               [
                -122.269446,
                47.773725
               ],
               [
                -122.269713,
                47.770482
               ],
               [
                -122.269083,
                47.76912
               ],
               [
                -122.267495,
                47.768509
               ],
               [
                -122.270517,
                47.768551
               ],
               [
                -122.270493,
                47.761161
               ],
               [
                -122.270734,
                47.756709
               ],
               [
                -122.26908,
                47.75735
               ],
               [
                -122.26699,
                47.752125
               ],
               [
                -122.274137,
                47.74502
               ],
               [
                -122.276137,
                47.73972
               ],
               [
                -122.273537,
                47.73702
               ],
               [
                -122.269937,
                47.73412
               ],
               [
                -122.269808,
                47.733477
               ],
               [
                -122.323589,
                47.734052
               ],
               [
                -122.328881,
                47.734093
               ],
               [
                -122.329049,
                47.739856
               ],
               [
                -122.329883,
                47.741142
               ],
               [
                -122.328966,
                47.741367
               ],
               [
                -122.329705,
                47.743234
               ],
               [
                -122.328967,
                47.747373
               ],
               [
                -122.329088,
                47.749736
               ],
               [
                -122.330546,
                47.753294
               ],
               [
                -122.329497,
                47.757752
               ]
              ]
             ],
             "type": "Polygon"
            },
            "properties": {
             "AFFGEOID10": "8600000US98155",
             "ALAND10": 19604370,
             "AWATER10": 1713431,
             "GEOID10": "98155",
             "ZCTA5CE10": "98155"
            },
            "type": "Feature"
           },
           {
            "geometry": {
             "coordinates": [
              [
               [
                -122.395203501864,
                47.7779219307649
               ],
               [
                -122.358667,
                47.777766
               ],
               [
                -122.358265,
                47.775485
               ],
               [
                -122.357289,
                47.775468
               ],
               [
                -122.357526,
                47.771092
               ],
               [
                -122.358531,
                47.770486
               ],
               [
                -122.358502,
                47.76686
               ],
               [
                -122.357496,
                47.766846
               ],
               [
                -122.358419,
                47.764981
               ],
               [
                -122.358467,
                47.755597
               ],
               [
                -122.357042,
                47.7555
               ],
               [
                -122.356927,
                47.753979
               ],
               [
                -122.358371,
                47.751444
               ],
               [
                -122.361142,
                47.753705
               ],
               [
                -122.361166,
                47.755952
               ],
               [
                -122.364439,
                47.755975
               ],
               [
                -122.36504,
                47.754219
               ],
               [
                -122.369564,
                47.75281
               ],
               [
                -122.370936,
                47.750934
               ],
               [
                -122.368772,
                47.750509
               ],
               [
                -122.367288,
                47.749108
               ],
               [
                -122.364044,
                47.748422
               ],
               [
                -122.362501,
                47.747195
               ],
               [
                -122.357804,
                47.746287
               ],
               [
                -122.355661,
                47.745038
               ],
               [
                -122.358892,
                47.745041
               ],
               [
                -122.358858,
                47.741414
               ],
               [
                -122.355634,
                47.741393
               ],
               [
                -122.355572,
                47.734129
               ],
               [
                -122.359169,
                47.734136
               ],
               [
                -122.358252,
                47.73232
               ],
               [
                -122.35825,
                47.725062
               ],
               [
                -122.356884,
                47.721424
               ],
               [
                -122.35825,
                47.721432
               ],
               [
                -122.357474,
                47.71598
               ],
               [
                -122.357729,
                47.710645
               ],
               [
                -122.356816,
                47.708719
               ],
               [
                -122.35815,
                47.708727
               ],
               [
                -122.357903,
                47.704365
               ],
               [
                -122.36076,
                47.704361
               ],
               [
                -122.360754,
                47.703666
               ],
               [
                -122.355439,
                47.703633
               ],
               [
                -122.355424,
                47.702184
               ],
               [
                -122.358076,
                47.701472
               ],
               [
                -122.362424,
                47.701537
               ],
               [
                -122.36472,
                47.70038
               ],
               [
                -122.364727,
                47.701505
               ],
               [
                -122.378489,
                47.701579
               ],
               [
                -122.381349,
                47.701041
               ],
               [
                -122.383167,
                47.701712
               ],
               [
                -122.385292,
                47.701172
               ],
               [
                -122.387557,
                47.701545
               ],
               [
                -122.393248,
                47.701602
               ],
               [
                -122.385655,
                47.704542
               ],
               [
                -122.38044,
                47.709119
               ],
               [
                -122.381139,
                47.712059
               ],
               [
                -122.37644,
                47.716519
               ],
               [
                -122.376284,
                47.72259
               ],
               [
                -122.37314,
                47.729219
               ],
               [
                -122.37479445039901,
                47.733920290333295
               ],
               [
                -122.376385,
                47.73844
               ],
               [
                -122.382675,
                47.74783
               ],
               [
                -122.380241,
                47.758519
               ],
               [
                -122.387742,
                47.764519
               ],
               [
                -122.388969,
                47.766939
               ],
               [
                -122.394442,
                47.772219
               ],
               [
                -122.393623,
                47.773876
               ],
               [
                -122.39435510929,
                47.7770931067692
               ],
               [
                -122.395203501864,
                47.7779219307649
               ]
              ]
             ],
             "type": "Polygon"
            },
            "properties": {
             "AFFGEOID10": "8600000US98177",
             "ALAND10": 14760890,
             "AWATER10": 3562125,
             "GEOID10": "98177",
             "ZCTA5CE10": "98177"
            },
            "type": "Feature"
           },
           {
            "geometry": {
             "coordinates": [
              [
               [
                -122.357666,
                47.652129
               ],
               [
                -122.357193,
                47.654149
               ],
               [
                -122.357385,
                47.666356
               ],
               [
                -122.356538,
                47.670293
               ],
               [
                -122.357718,
                47.670645
               ],
               [
                -122.357441,
                47.675997
               ],
               [
                -122.357416,
                47.681799
               ],
               [
                -122.358002,
                47.692432
               ],
               [
                -122.357398,
                47.697842
               ],
               [
                -122.358076,
                47.701472
               ],
               [
                -122.350041,
                47.701444
               ],
               [
                -122.348405,
                47.700867
               ],
               [
                -122.347346,
                47.701436
               ],
               [
                -122.33505,
                47.701394
               ],
               [
                -122.334296,
                47.702395
               ],
               [
                -122.333904,
                47.703218
               ],
               [
                -122.330551,
                47.70319
               ],
               [
                -122.329963,
                47.701439
               ],
               [
                -122.329033,
                47.693527
               ],
               [
                -122.329075,
                47.691141
               ],
               [
                -122.329136,
                47.690368
               ],
               [
                -122.328137,
                47.688463
               ],
               [
                -122.326291,
                47.686799
               ],
               [
                -122.328334,
                47.686848
               ],
               [
                -122.3283,
                47.683239
               ],
               [
                -122.329586,
                47.68264
               ],
               [
                -122.326441,
                47.681003
               ],
               [
                -122.325713,
                47.679718
               ],
               [
                -122.329465,
                47.677558
               ],
               [
                -122.329612,
                47.675948
               ],
               [
                -122.328156,
                47.675933
               ],
               [
                -122.328214,
                47.67228
               ],
               [
                -122.328225,
                47.671567
               ],
               [
                -122.328267,
                47.667903
               ],
               [
                -122.329541,
                47.667902
               ],
               [
                -122.328296,
                47.666006
               ],
               [
                -122.328317,
                47.657782
               ],
               [
                -122.327904,
                47.65365
               ],
               [
                -122.329085,
                47.652452
               ],
               [
                -122.331366,
                47.650707
               ],
               [
                -122.330372,
                47.650944
               ],
               [
                -122.327874,
                47.653087
               ],
               [
                -122.32685,
                47.653615
               ],
               [
                -122.326537,
                47.65032
               ],
               [
                -122.337538,
                47.63972
               ],
               [
                -122.338338,
                47.63952
               ],
               [
                -122.34704,
                47.646709
               ],
               [
                -122.354463,
                47.649932
               ],
               [
                -122.359398,
                47.652676
               ],
               [
                -122.357666,
                47.652129
               ]
              ]
             ],
             "type": "Polygon"
            },
            "properties": {
             "AFFGEOID10": "8600000US98103",
             "ALAND10": 12005478,
             "AWATER10": 1705646,
             "GEOID10": "98103",
             "ZCTA5CE10": "98103"
            },
            "type": "Feature"
           },
           {
            "geometry": {
             "coordinates": [
              [
               [
                -122.341737,
                47.60522
               ],
               [
                -122.340937,
                47.60502
               ],
               [
                -122.339299,
                47.604544
               ],
               [
                -122.339093,
                47.604486
               ],
               [
                -122.334674,
                47.606336
               ],
               [
                -122.332911,
                47.606086
               ],
               [
                -122.333564,
                47.606799
               ],
               [
                -122.323572,
                47.610979
               ],
               [
                -122.323115,
                47.612157
               ],
               [
                -122.321812,
                47.610728
               ],
               [
                -122.320762,
                47.611167
               ],
               [
                -122.32076,
                47.610182
               ],
               [
                -122.323378,
                47.609087
               ],
               [
                -122.322726,
                47.608373
               ],
               [
                -122.321337,
                47.60902
               ],
               [
                -122.320951,
                47.608114
               ],
               [
                -122.322074,
                47.607659
               ],
               [
                -122.321423,
                47.606946
               ],
               [
                -122.320754,
                47.607217
               ],
               [
                -122.320739,
                47.601699
               ],
               [
                -122.316967,
                47.600851
               ],
               [
                -122.317194,
                47.600264
               ],
               [
                -122.317257,
                47.595819
               ],
               [
                -122.319253,
                47.595823
               ],
               [
                -122.327718,
                47.59581
               ],
               [
                -122.32817,
                47.597581
               ],
               [
                -122.329022,
                47.597594
               ],
               [
                -122.329051,
                47.592403
               ],
               [
                -122.333259,
                47.592408
               ],
               [
                -122.333277,
                47.595275
               ],
               [
                -122.33551,
                47.5978
               ],
               [
                -122.335557,
                47.599205
               ],
               [
                -122.337237,
                47.59922
               ],
               [
                -122.339513,
                47.599113
               ],
               [
                -122.34232527460901,
                47.6043015014773
               ],
               [
                -122.341737,
                47.60522
               ]
              ],
              [
               [
                -122.335588,
                47.60398
               ],
               [
                -122.334479,
                47.604445
               ],
               [
                -122.335131,
                47.605158
               ],
               [
                -122.33624,
                47.604693
               ],
               [
                -122.335588,
                47.60398
               ]
              ],
              [
               [
                -122.332911,
                47.606086
               ],
               [
                -122.332258,
                47.605372
               ],
               [
                -122.331148,
                47.605837
               ],
               [
                -122.3318,
                47.606551
               ],
               [
                -122.332911,
                47.606086
               ]
              ]
             ],
             "type": "Polygon"
            },
            "properties": {
             "AFFGEOID10": "8600000US98104",
             "ALAND10": 2007030,
             "AWATER10": 252657,
             "GEOID10": "98104",
             "ZCTA5CE10": "98104"
            },
            "type": "Feature"
           },
           {
            "geometry": {
             "coordinates": [
              [
               [
                -122.318091,
                47.62988
               ],
               [
                -122.316509,
                47.631822
               ],
               [
                -122.313487,
                47.631806
               ],
               [
                -122.312483,
                47.633764
               ],
               [
                -122.313609,
                47.635984
               ],
               [
                -122.317227,
                47.63606
               ],
               [
                -122.31733,
                47.63724
               ],
               [
                -122.315224,
                47.637238
               ],
               [
                -122.316037,
                47.639557
               ],
               [
                -122.316044,
                47.640738
               ],
               [
                -122.317952,
                47.640849
               ],
               [
                -122.317951,
                47.64257
               ],
               [
                -122.315635,
                47.641555
               ],
               [
                -122.313669,
                47.639678
               ],
               [
                -122.313129,
                47.640004
               ],
               [
                -122.313522,
                47.641047
               ],
               [
                -122.314428,
                47.641661
               ],
               [
                -122.313851,
                47.642204
               ],
               [
                -122.313365,
                47.643077
               ],
               [
                -122.31085,
                47.643123
               ],
               [
                -122.310437,
                47.64712
               ],
               [
                -122.304698,
                47.647415
               ],
               [
                -122.300269,
                47.647366
               ],
               [
                -122.285036,
                47.64752
               ],
               [
                -122.255735,
                47.64712
               ],
               [
                -122.259125,
                47.640299
               ],
               [
                -122.263535,
                47.62432
               ],
               [
                -122.263823,
                47.624468
               ],
               [
                -122.280229,
                47.626243
               ],
               [
                -122.281653,
                47.624703
               ],
               [
                -122.281661,
                47.623073
               ],
               [
                -122.279569,
                47.62122
               ],
               [
                -122.279699,
                47.616352
               ],
               [
                -122.282581,
                47.616459
               ],
               [
                -122.282574,
                47.617569
               ],
               [
                -122.285709,
                47.618356
               ],
               [
                -122.290645,
                47.618326
               ],
               [
                -122.291264,
                47.618869
               ],
               [
                -122.302554,
                47.618932
               ],
               [
                -122.304771,
                47.618496
               ],
               [
                -122.315606,
                47.618776
               ],
               [
                -122.315687,
                47.624259
               ],
               [
                -122.314571,
                47.628415
               ],
               [
                -122.318038,
                47.628439
               ],
               [
                -122.318091,
                47.62988
               ]
              ]
             ],
             "type": "Polygon"
            },
            "properties": {
             "AFFGEOID10": "8600000US98112",
             "ALAND10": 8185289,
             "AWATER10": 3836278,
             "GEOID10": "98112",
             "ZCTA5CE10": "98112"
            },
            "type": "Feature"
           },
           {
            "geometry": {
             "coordinates": [
              [
               [
                -122.329289,
                47.701432
               ],
               [
                -122.328527,
                47.703178
               ],
               [
                -122.327255,
                47.703169
               ],
               [
                -122.327287,
                47.701353
               ],
               [
                -122.299716,
                47.701154
               ],
               [
                -122.290683,
                47.700675
               ],
               [
                -122.285377,
                47.701067
               ],
               [
                -122.285351,
                47.700154
               ],
               [
                -122.283121,
                47.700084
               ],
               [
                -122.284323,
                47.70264
               ],
               [
                -122.281818,
                47.701075
               ],
               [
                -122.273603,
                47.701115
               ],
               [
                -122.274339,
                47.70288
               ],
               [
                -122.273215,
                47.702844
               ],
               [
                -122.272327,
                47.701213
               ],
               [
                -122.271418,
                47.697345
               ],
               [
                -122.254136,
                47.69782
               ],
               [
                -122.243935,
                47.69222
               ],
               [
                -122.231835,
                47.69012
               ],
               [
                -122.226235,
                47.66692
               ],
               [
                -122.231435,
                47.66412
               ],
               [
                -122.251244,
                47.673683
               ],
               [
                -122.253986,
                47.674473
               ],
               [
                -122.256306,
                47.672068
               ],
               [
                -122.273846,
                47.672132
               ],
               [
                -122.275116,
                47.671776
               ],
               [
                -122.274673,
                47.673274
               ],
               [
                -122.279496,
                47.672146
               ],
               [
                -122.291431,
                47.672146
               ],
               [
                -122.291433,
                47.670321
               ],
               [
                -122.292643,
                47.670322
               ],
               [
                -122.29264,
                47.672146
               ],
               [
                -122.302959,
                47.672103
               ],
               [
                -122.301088,
                47.670656
               ],
               [
                -122.301074,
                47.668522
               ],
               [
                -122.303846,
                47.667921
               ],
               [
                -122.304131,
                47.670099
               ],
               [
                -122.306499,
                47.670672
               ],
               [
                -122.306511,
                47.67262
               ],
               [
                -122.310412,
                47.673973
               ],
               [
                -122.311919,
                47.673977
               ],
               [
                -122.311907,
                47.672104
               ],
               [
                -122.313015,
                47.671203
               ],
               [
                -122.317365,
                47.672267
               ],
               [
                -122.318995,
                47.672211
               ],
               [
                -122.325495,
                47.67226
               ],
               [
                -122.325521,
                47.671548
               ],
               [
                -122.328225,
                47.671567
               ],
               [
                -122.328214,
                47.67228
               ],
               [
                -122.328156,
                47.675933
               ],
               [
                -122.329612,
                47.675948
               ],
               [
                -122.329465,
                47.677558
               ],
               [
                -122.325713,
                47.679718
               ],
               [
                -122.326441,
                47.681003
               ],
               [
                -122.329586,
                47.68264
               ],
               [
                -122.3283,
                47.683239
               ],
               [
                -122.328334,
                47.686848
               ],
               [
                -122.326291,
                47.686799
               ],
               [
                -122.328137,
                47.688463
               ],
               [
                -122.329136,
                47.690368
               ],
               [
                -122.329075,
                47.691141
               ],
               [
                -122.329033,
                47.693527
               ],
               [
                -122.329963,
                47.701439
               ],
               [
                -122.329289,
                47.701432
               ]
              ]
             ],
             "type": "Polygon"
            },
            "properties": {
             "AFFGEOID10": "8600000US98115",
             "ALAND10": 17063515,
             "AWATER10": 5456625,
             "GEOID10": "98115",
             "ZCTA5CE10": "98115"
            },
            "type": "Feature"
           },
           {
            "geometry": {
             "coordinates": [
              [
               [
                -122.294458,
                47.530309
               ],
               [
                -122.293174,
                47.529289
               ],
               [
                -122.292261,
                47.527047
               ],
               [
                -122.290793,
                47.533066
               ],
               [
                -122.289183,
                47.533058
               ],
               [
                -122.291625,
                47.535699
               ],
               [
                -122.291364,
                47.537019
               ],
               [
                -122.293096,
                47.536972
               ],
               [
                -122.296084,
                47.538956
               ],
               [
                -122.291519,
                47.538867
               ],
               [
                -122.290596,
                47.540724
               ],
               [
                -122.293313,
                47.540318
               ],
               [
                -122.293314,
                47.541319
               ],
               [
                -122.291011,
                47.541329
               ],
               [
                -122.29279,
                47.54265
               ],
               [
                -122.29277,
                47.544245
               ],
               [
                -122.291522,
                47.544379
               ],
               [
                -122.29149,
                47.557863
               ],
               [
                -122.293365,
                47.560813
               ],
               [
                -122.291016,
                47.560762
               ],
               [
                -122.292433,
                47.564432
               ],
               [
                -122.291665,
                47.564417
               ],
               [
                -122.292075,
                47.570186
               ],
               [
                -122.290701,
                47.569769
               ],
               [
                -122.282871,
                47.56976
               ],
               [
                -122.282872,
                47.570679
               ],
               [
                -122.277683,
                47.570024
               ],
               [
                -122.276635,
                47.570762
               ],
               [
                -122.262258,
                47.575662
               ],
               [
                -122.262134,
                47.575921
               ],
               [
                -122.252034,
                47.563921
               ],
               [
                -122.250034,
                47.562521
               ],
               [
                -122.244034,
                47.559621
               ],
               [
                -122.240934,
                47.555421
               ],
               [
                -122.242834,
                47.549321
               ],
               [
                -122.249734,
                47.538921
               ],
               [
                -122.249333,
                47.531821
               ],
               [
                -122.240733,
                47.522921
               ],
               [
                -122.23807,
                47.521323
               ],
               [
                -122.250515,
                47.513251
               ],
               [
                -122.248354,
                47.511589
               ],
               [
                -122.247874,
                47.508878
               ],
               [
                -122.249424,
                47.511137
               ],
               [
                -122.251424,
                47.51272
               ],
               [
                -122.252345,
                47.511644
               ],
               [
                -122.259387,
                47.511682
               ],
               [
                -122.259403,
                47.51012
               ],
               [
                -122.262066,
                47.51188
               ],
               [
                -122.262086,
                47.509686
               ],
               [
                -122.264747,
                47.509638
               ],
               [
                -122.264731,
                47.511815
               ],
               [
                -122.26761,
                47.511827
               ],
               [
                -122.267621,
                47.510818
               ],
               [
                -122.270062,
                47.510807
               ],
               [
                -122.270061,
                47.510963
               ],
               [
                -122.275158,
                47.511292
               ],
               [
                -122.278686,
                47.512082
               ],
               [
                -122.278544,
                47.509813
               ],
               [
                -122.283739,
                47.510063
               ],
               [
                -122.291369,
                47.510153
               ],
               [
                -122.291325,
                47.511627
               ],
               [
                -122.291268,
                47.524382
               ],
               [
                -122.293634,
                47.524422
               ],
               [
                -122.296106,
                47.529972
               ],
               [
                -122.294458,
                47.530309
               ]
              ]
             ],
             "type": "Polygon"
            },
            "properties": {
             "AFFGEOID10": "8600000US98118",
             "ALAND10": 16183284,
             "AWATER10": 6832355,
             "GEOID10": "98118",
             "ZCTA5CE10": "98118"
            },
            "type": "Feature"
           },
           {
            "geometry": {
             "coordinates": [
              [
               [
                -122.327855,
                47.618495
               ],
               [
                -122.324259,
                47.619573
               ],
               [
                -122.324011,
                47.618507
               ],
               [
                -122.320856,
                47.618738
               ],
               [
                -122.315606,
                47.618776
               ],
               [
                -122.304771,
                47.618496
               ],
               [
                -122.302554,
                47.618932
               ],
               [
                -122.291264,
                47.618869
               ],
               [
                -122.290645,
                47.618326
               ],
               [
                -122.285709,
                47.618356
               ],
               [
                -122.282574,
                47.617569
               ],
               [
                -122.282581,
                47.616459
               ],
               [
                -122.279699,
                47.616352
               ],
               [
                -122.279569,
                47.62122
               ],
               [
                -122.281661,
                47.623073
               ],
               [
                -122.281653,
                47.624703
               ],
               [
                -122.280229,
                47.626243
               ],
               [
                -122.263823,
                47.624468
               ],
               [
                -122.263535,
                47.62432
               ],
               [
                -122.265735,
                47.61362
               ],
               [
                -122.267635,
                47.601521
               ],
               [
                -122.29677,
                47.601654
               ],
               [
                -122.299987,
                47.600865
               ],
               [
                -122.299973,
                47.601661
               ],
               [
                -122.303741,
                47.601667
               ],
               [
                -122.304344,
                47.600829
               ],
               [
                -122.307659,
                47.601674
               ],
               [
                -122.307662,
                47.599997
               ],
               [
                -122.308968,
                47.599999
               ],
               [
                -122.308965,
                47.600837
               ],
               [
                -122.316967,
                47.600851
               ],
               [
                -122.320739,
                47.601699
               ],
               [
                -122.320754,
                47.607217
               ],
               [
                -122.321423,
                47.606946
               ],
               [
                -122.322074,
                47.607659
               ],
               [
                -122.320951,
                47.608114
               ],
               [
                -122.321337,
                47.60902
               ],
               [
                -122.322726,
                47.608373
               ],
               [
                -122.323378,
                47.609087
               ],
               [
                -122.32076,
                47.610182
               ],
               [
                -122.320762,
                47.611167
               ],
               [
                -122.321812,
                47.610728
               ],
               [
                -122.323115,
                47.612157
               ],
               [
                -122.326886,
                47.612957
               ],
               [
                -122.327923,
                47.614056
               ],
               [
                -122.327855,
                47.618495
               ]
              ]
             ],
             "type": "Polygon"
            },
            "properties": {
             "AFFGEOID10": "8600000US98122",
             "ALAND10": 5992903,
             "AWATER10": 3155568,
             "GEOID10": "98122",
             "ZCTA5CE10": "98122"
            },
            "type": "Feature"
           },
           {
            "geometry": {
             "coordinates": [
              [
               [
                -122.328873,
                47.728624
               ],
               [
                -122.328881,
                47.734093
               ],
               [
                -122.323589,
                47.734052
               ],
               [
                -122.269808,
                47.733477
               ],
               [
                -122.267136,
                47.71882
               ],
               [
                -122.261136,
                47.70802
               ],
               [
                -122.254136,
                47.69782
               ],
               [
                -122.271418,
                47.697345
               ],
               [
                -122.272327,
                47.701213
               ],
               [
                -122.273215,
                47.702844
               ],
               [
                -122.274339,
                47.70288
               ],
               [
                -122.273603,
                47.701115
               ],
               [
                -122.281818,
                47.701075
               ],
               [
                -122.284323,
                47.70264
               ],
               [
                -122.283121,
                47.700084
               ],
               [
                -122.285351,
                47.700154
               ],
               [
                -122.285377,
                47.701067
               ],
               [
                -122.290683,
                47.700675
               ],
               [
                -122.299716,
                47.701154
               ],
               [
                -122.327287,
                47.701353
               ],
               [
                -122.327255,
                47.703169
               ],
               [
                -122.328527,
                47.703178
               ],
               [
                -122.329289,
                47.701432
               ],
               [
                -122.329584,
                47.709975
               ],
               [
                -122.328181,
                47.712312
               ],
               [
                -122.328969,
                47.719522
               ],
               [
                -122.32887,
                47.726802
               ],
               [
                -122.33025,
                47.727263
               ],
               [
                -122.328873,
                47.728624
               ]
              ]
             ],
             "type": "Polygon"
            },
            "properties": {
             "AFFGEOID10": "8600000US98125",
             "ALAND10": 13960901,
             "AWATER10": 3976391,
             "GEOID10": "98125",
             "ZCTA5CE10": "98125"
            },
            "type": "Feature"
           },
           {
            "geometry": {
             "coordinates": [
              [
               [
                -122.35999805842201,
                47.5852364628422
               ],
               [
                -122.358559,
                47.586207
               ],
               [
                -122.355945,
                47.587329
               ],
               [
                -122.35397698011401,
                47.5879176812251
               ],
               [
                -122.35287427019401,
                47.588247527804
               ],
               [
                -122.34975140471701,
                47.5891816506185
               ],
               [
                -122.34644390187,
                47.5901710028308
               ],
               [
                -122.346168092661,
                47.5902535038788
               ],
               [
                -122.342937,
                47.59122
               ],
               [
                -122.339513,
                47.599113
               ],
               [
                -122.337237,
                47.59922
               ],
               [
                -122.335557,
                47.599205
               ],
               [
                -122.33551,
                47.5978
               ],
               [
                -122.333277,
                47.595275
               ],
               [
                -122.333259,
                47.592408
               ],
               [
                -122.329051,
                47.592403
               ],
               [
                -122.329022,
                47.597594
               ],
               [
                -122.32817,
                47.597581
               ],
               [
                -122.327718,
                47.59581
               ],
               [
                -122.319253,
                47.595823
               ],
               [
                -122.32054,
                47.592244
               ],
               [
                -122.320344,
                47.59129
               ],
               [
                -122.317282,
                47.589986
               ],
               [
                -122.317995,
                47.58638
               ],
               [
                -122.317303,
                47.583705
               ],
               [
                -122.32006,
                47.586087
               ],
               [
                -122.318966,
                47.579208
               ],
               [
                -122.319896,
                47.575963
               ],
               [
                -122.320091,
                47.572433
               ],
               [
                -122.320834,
                47.567206
               ],
               [
                -122.321352,
                47.569833
               ],
               [
                -122.324054,
                47.569814
               ],
               [
                -122.325984,
                47.57062
               ],
               [
                -122.326765,
                47.569422
               ],
               [
                -122.326734,
                47.566846
               ],
               [
                -122.329376,
                47.567144
               ],
               [
                -122.329533,
                47.555651
               ],
               [
                -122.335287,
                47.555692
               ],
               [
                -122.335307,
                47.553441
               ],
               [
                -122.336952,
                47.553438
               ],
               [
                -122.335166,
                47.550094
               ],
               [
                -122.338248,
                47.549855
               ],
               [
                -122.338131,
                47.555743
               ],
               [
                -122.342737,
                47.55622
               ],
               [
                -122.347237,
                47.56302
               ],
               [
                -122.347438,
                47.565328
               ],
               [
                -122.345055,
                47.571087
               ],
               [
                -122.346195,
                47.570971
               ],
               [
                -122.346472,
                47.569277
               ],
               [
                -122.348809,
                47.569418
               ],
               [
                -122.352689,
                47.571379
               ],
               [
                -122.354431,
                47.571377
               ],
               [
                -122.359612,
                47.574771
               ],
               [
                -122.35999805842201,
                47.5852364628422
               ]
              ]
             ],
             "type": "Polygon"
            },
            "properties": {
             "AFFGEOID10": "8600000US98134",
             "ALAND10": 8738344,
             "AWATER10": 1888145,
             "GEOID10": "98134",
             "ZCTA5CE10": "98134"
            },
            "type": "Feature"
           },
           {
            "geometry": {
             "coordinates": [
              [
               [
                -122.39586529922,
                47.513767291645195
               ],
               [
                -122.391813,
                47.513804
               ],
               [
                -122.390491,
                47.512118
               ],
               [
                -122.390738,
                47.513814
               ],
               [
                -122.381858,
                47.513751
               ],
               [
                -122.378222,
                47.514298
               ],
               [
                -122.376743,
                47.513723
               ],
               [
                -122.371104,
                47.513705
               ],
               [
                -122.371,
                47.51229
               ],
               [
                -122.368442,
                47.512299
               ],
               [
                -122.367216,
                47.513916
               ],
               [
                -122.365875,
                47.513703
               ],
               [
                -122.344822,
                47.51383
               ],
               [
                -122.34336,
                47.513256
               ],
               [
                -122.339706,
                47.51381
               ],
               [
                -122.339961,
                47.51588
               ],
               [
                -122.337485,
                47.517258
               ],
               [
                -122.33704,
                47.513893
               ],
               [
                -122.334005,
                47.513865
               ],
               [
                -122.333624,
                47.510381
               ],
               [
                -122.334706,
                47.510364
               ],
               [
                -122.334741,
                47.508558
               ],
               [
                -122.333628,
                47.508556
               ],
               [
                -122.333654,
                47.503154
               ],
               [
                -122.335293,
                47.503121
               ],
               [
                -122.335332,
                47.50126
               ],
               [
                -122.333676,
                47.501292
               ],
               [
                -122.333735,
                47.496333
               ],
               [
                -122.334843,
                47.496325
               ],
               [
                -122.334843,
                47.494598
               ],
               [
                -122.333756,
                47.494598
               ],
               [
                -122.333825,
                47.481278
               ],
               [
                -122.36153972265001,
                47.4811137842126
               ],
               [
                -122.361336,
                47.481421
               ],
               [
                -122.361649,
                47.485275
               ],
               [
                -122.365236,
                47.48842
               ],
               [
                -122.368542,
                47.492341
               ],
               [
                -122.375652,
                47.496434
               ],
               [
                -122.386637,
                47.50222
               ],
               [
                -122.393974,
                47.509683
               ],
               [
                -122.39586529922,
                47.513767291645195
               ]
              ]
             ],
             "type": "Polygon"
            },
            "properties": {
             "AFFGEOID10": "8600000US98146",
             "ALAND10": 12044646,
             "AWATER10": 1761080,
             "GEOID10": "98146",
             "ZCTA5CE10": "98146"
            },
            "type": "Feature"
           },
           {
            "geometry": {
             "coordinates": [
              [
               [
                -122.376049,
                47.562045
               ],
               [
                -122.3732,
                47.562239
               ],
               [
                -122.371966,
                47.564697
               ],
               [
                -122.365461,
                47.564724
               ],
               [
                -122.365431,
                47.568343
               ],
               [
                -122.364358,
                47.569634
               ],
               [
                -122.36225,
                47.57016
               ],
               [
                -122.362121,
                47.57142
               ],
               [
                -122.370705,
                47.57175
               ],
               [
                -122.371458,
                47.576811
               ],
               [
                -122.372517,
                47.578693
               ],
               [
                -122.372872,
                47.581296
               ],
               [
                -122.367605,
                47.582138
               ],
               [
                -122.36204,
                47.582227
               ],
               [
                -122.36149225132101,
                47.584228741607895
               ],
               [
                -122.35999805842201,
                47.5852364628422
               ],
               [
                -122.359612,
                47.574771
               ],
               [
                -122.354431,
                47.571377
               ],
               [
                -122.352689,
                47.571379
               ],
               [
                -122.348809,
                47.569418
               ],
               [
                -122.346472,
                47.569277
               ],
               [
                -122.346195,
                47.570971
               ],
               [
                -122.345055,
                47.571087
               ],
               [
                -122.347438,
                47.565328
               ],
               [
                -122.347237,
                47.56302
               ],
               [
                -122.342737,
                47.55622
               ],
               [
                -122.338436,
                47.546222
               ],
               [
                -122.334942,
                47.542826
               ],
               [
                -122.33626,
                47.542129
               ],
               [
                -122.337091,
                47.539772
               ],
               [
                -122.335081,
                47.539185
               ],
               [
                -122.334698,
                47.530153
               ],
               [
                -122.333742,
                47.526661
               ],
               [
                -122.334818,
                47.525424
               ],
               [
                -122.33436,
                47.520818
               ],
               [
                -122.333866,
                47.519824
               ],
               [
                -122.332538,
                47.517232
               ],
               [
                -122.337485,
                47.517258
               ],
               [
                -122.339961,
                47.51588
               ],
               [
                -122.339706,
                47.51381
               ],
               [
                -122.34336,
                47.513256
               ],
               [
                -122.344822,
                47.51383
               ],
               [
                -122.365875,
                47.513703
               ],
               [
                -122.367216,
                47.513916
               ],
               [
                -122.367695,
                47.517381
               ],
               [
                -122.365915,
                47.517361
               ],
               [
                -122.365849,
                47.521692
               ],
               [
                -122.364529,
                47.524682
               ],
               [
                -122.369914,
                47.524668
               ],
               [
                -122.369908,
                47.526475
               ],
               [
                -122.371254,
                47.526473
               ],
               [
                -122.371248,
                47.528281
               ],
               [
                -122.367206,
                47.528279
               ],
               [
                -122.367189,
                47.531883
               ],
               [
                -122.36584,
                47.531879
               ],
               [
                -122.365818,
                47.533701
               ],
               [
                -122.364157,
                47.533697
               ],
               [
                -122.364475,
                47.535521
               ],
               [
                -122.366458,
                47.535527
               ],
               [
                -122.367475,
                47.537938
               ],
               [
                -122.366838,
                47.538494
               ],
               [
                -122.368921,
                47.540387
               ],
               [
                -122.36573,
                47.539878
               ],
               [
                -122.365581,
                47.55001
               ],
               [
                -122.368478,
                47.550017
               ],
               [
                -122.36842,
                47.553783
               ],
               [
                -122.375142,
                47.553776
               ],
               [
                -122.375474,
                47.557923
               ],
               [
                -122.376238,
                47.558655
               ],
               [
                -122.376049,
                47.562045
               ]
              ]
             ],
             "type": "Polygon"
            },
            "properties": {
             "AFFGEOID10": "8600000US98106",
             "ALAND10": 14240142,
             "AWATER10": 841739,
             "GEOID10": "98106",
             "ZCTA5CE10": "98106"
            },
            "type": "Feature"
           },
           {
            "geometry": {
             "coordinates": [
              [
               [
                -122.40966,
                47.676224
               ],
               [
                -122.40929164986402,
                47.6770127431448
               ],
               [
                -122.407841,
                47.680119
               ],
               [
                -122.405010987115,
                47.6866987799584
               ],
               [
                -122.403841,
                47.689419
               ],
               [
                -122.406241,
                47.693019
               ],
               [
                -122.403441,
                47.697719
               ],
               [
                -122.393248,
                47.701602
               ],
               [
                -122.387557,
                47.701545
               ],
               [
                -122.385292,
                47.701172
               ],
               [
                -122.383167,
                47.701712
               ],
               [
                -122.381349,
                47.701041
               ],
               [
                -122.378489,
                47.701579
               ],
               [
                -122.364727,
                47.701505
               ],
               [
                -122.36472,
                47.70038
               ],
               [
                -122.362424,
                47.701537
               ],
               [
                -122.358076,
                47.701472
               ],
               [
                -122.357398,
                47.697842
               ],
               [
                -122.358002,
                47.692432
               ],
               [
                -122.357416,
                47.681799
               ],
               [
                -122.357441,
                47.675997
               ],
               [
                -122.376117,
                47.675992
               ],
               [
                -122.376212,
                47.675278
               ],
               [
                -122.378882,
                47.675279
               ],
               [
                -122.378882,
                47.675993
               ],
               [
                -122.382129,
                47.675984
               ],
               [
                -122.382125,
                47.675283
               ],
               [
                -122.384741,
                47.675285
               ],
               [
                -122.384741,
                47.675966
               ],
               [
                -122.390105,
                47.675927
               ],
               [
                -122.39011,
                47.675243
               ],
               [
                -122.392991,
                47.675204
               ],
               [
                -122.392958,
                47.675904
               ],
               [
                -122.398367,
                47.675862
               ],
               [
                -122.403497,
                47.675817
               ],
               [
                -122.405052,
                47.675163
               ],
               [
                -122.405395,
                47.6769
               ],
               [
                -122.406325,
                47.675823
               ],
               [
                -122.40961916965901,
                47.6758388194588
               ],
               [
                -122.40966,
                47.676224
               ]
              ]
             ],
             "type": "Polygon"
            },
            "properties": {
             "AFFGEOID10": "8600000US98117",
             "ALAND10": 9982911,
             "AWATER10": 1800762,
             "GEOID10": "98117",
             "ZCTA5CE10": "98117"
            },
            "type": "Feature"
           },
           {
            "geometry": {
             "coordinates": [
              [
               [
                -122.335293,
                47.503121
               ],
               [
                -122.333654,
                47.503154
               ],
               [
                -122.333628,
                47.508556
               ],
               [
                -122.334741,
                47.508558
               ],
               [
                -122.334706,
                47.510364
               ],
               [
                -122.333624,
                47.510381
               ],
               [
                -122.334005,
                47.513865
               ],
               [
                -122.314722,
                47.513813
               ],
               [
                -122.310826,
                47.513376
               ],
               [
                -122.311297,
                47.515648
               ],
               [
                -122.307264,
                47.512828
               ],
               [
                -122.303951,
                47.512837
               ],
               [
                -122.299481,
                47.512201
               ],
               [
                -122.294756,
                47.510695
               ],
               [
                -122.293146,
                47.510822
               ],
               [
                -122.291325,
                47.511627
               ],
               [
                -122.291369,
                47.510153
               ],
               [
                -122.283739,
                47.510063
               ],
               [
                -122.282607,
                47.507739
               ],
               [
                -122.277895,
                47.503539
               ],
               [
                -122.270294,
                47.496354
               ],
               [
                -122.270304,
                47.495648
               ],
               [
                -122.271056,
                47.495655
               ],
               [
                -122.2778,
                47.501266
               ],
               [
                -122.27882,
                47.50008
               ],
               [
                -122.279767,
                47.495188
               ],
               [
                -122.279493,
                47.492348
               ],
               [
                -122.28014,
                47.490201
               ],
               [
                -122.27335,
                47.491444
               ],
               [
                -122.271222,
                47.490541
               ],
               [
                -122.270075,
                47.488694
               ],
               [
                -122.267835,
                47.489244
               ],
               [
                -122.266075,
                47.488833
               ],
               [
                -122.265235,
                47.486734
               ],
               [
                -122.267135,
                47.485729
               ],
               [
                -122.268586,
                47.483983
               ],
               [
                -122.267513,
                47.482361
               ],
               [
                -122.263083,
                47.484686
               ],
               [
                -122.261054,
                47.484628
               ],
               [
                -122.259149,
                47.483599
               ],
               [
                -122.261145,
                47.482172
               ],
               [
                -122.259892,
                47.481255
               ],
               [
                -122.256573,
                47.480694
               ],
               [
                -122.255725,
                47.478951
               ],
               [
                -122.258157,
                47.47876
               ],
               [
                -122.258528,
                47.477467
               ],
               [
                -122.255056,
                47.477022
               ],
               [
                -122.251569,
                47.474808
               ],
               [
                -122.254149,
                47.475122
               ],
               [
                -122.253225,
                47.473534
               ],
               [
                -122.255816,
                47.473633
               ],
               [
                -122.253946,
                47.471425
               ],
               [
                -122.252916,
                47.468877
               ],
               [
                -122.254886,
                47.468904
               ],
               [
                -122.256964,
                47.467797
               ],
               [
                -122.256937,
                47.469604
               ],
               [
                -122.259553,
                47.469637
               ],
               [
                -122.259556,
                47.471379
               ],
               [
                -122.262513,
                47.471374
               ],
               [
                -122.262542,
                47.469267
               ],
               [
                -122.266779,
                47.469073
               ],
               [
                -122.266696,
                47.467586
               ],
               [
                -122.264768,
                47.46564
               ],
               [
                -122.262057,
                47.464512
               ],
               [
                -122.266056,
                47.464932
               ],
               [
                -122.265205,
                47.463075
               ],
               [
                -122.267192,
                47.465
               ],
               [
                -122.268147,
                47.467713
               ],
               [
                -122.27059,
                47.467688
               ],
               [
                -122.27056,
                47.472233
               ],
               [
                -122.273733,
                47.472264
               ],
               [
                -122.273675,
                47.470457
               ],
               [
                -122.275858,
                47.470475
               ],
               [
                -122.276966,
                47.469552
               ],
               [
                -122.280672,
                47.469601
               ],
               [
                -122.280691,
                47.468721
               ],
               [
                -122.302416,
                47.468769
               ],
               [
                -122.302422,
                47.466475
               ],
               [
                -122.306248,
                47.468364
               ],
               [
                -122.312384,
                47.470094
               ],
               [
                -122.323442,
                47.469909
               ],
               [
                -122.323441,
                47.468741
               ],
               [
                -122.329339,
                47.468717
               ],
               [
                -122.329395,
                47.470059
               ],
               [
                -122.332283,
                47.470438
               ],
               [
                -122.333869,
                47.46869
               ],
               [
                -122.333843,
                47.474125
               ],
               [
                -122.335173,
                47.479469
               ],
               [
                -122.333825,
                47.481278
               ],
               [
                -122.333756,
                47.494598
               ],
               [
                -122.334843,
                47.494598
               ],
               [
                -122.334843,
                47.496325
               ],
               [
                -122.333735,
                47.496333
               ],
               [
                -122.333676,
                47.501292
               ],
               [
                -122.335332,
                47.50126
               ],
               [
                -122.335293,
                47.503121
               ]
              ]
             ],
             "type": "Polygon"
            },
            "properties": {
             "AFFGEOID10": "8600000US98168",
             "ALAND10": 23033989,
             "AWATER10": 425762,
             "GEOID10": "98168",
             "ZCTA5CE10": "98168"
            },
            "type": "Feature"
           }
          ],
          "type": "FeatureCollection"
         },
         "hovertemplate": "zipcode=%{location}<br>cluster_id=%{z}<extra></extra>",
         "locations": [
          "98136",
          "98144",
          "98109",
          "98195",
          "98199",
          "98101",
          "98102",
          "98121",
          "98154",
          "98164",
          "98116",
          "98126",
          "98107",
          "98119",
          "98133",
          "98108",
          "98178",
          "98105",
          "98155",
          "98177",
          "98103",
          "98104",
          "98112",
          "98115",
          "98118",
          "98122",
          "98125",
          "98134",
          "98146",
          "98106",
          "98117",
          "98168"
         ],
         "marker": {
          "opacity": 0.7
         },
         "name": "",
         "subplot": "mapbox",
         "type": "choroplethmapbox",
         "z": [
          2,
          5,
          5,
          3,
          0,
          5,
          5,
          5,
          5,
          5,
          2,
          2,
          0,
          0,
          4,
          1,
          1,
          3,
          4,
          4,
          0,
          5,
          3,
          3,
          1,
          5,
          4,
          5,
          2,
          2,
          0,
          1
         ]
        }
       ],
       "layout": {
        "coloraxis": {
         "colorbar": {
          "title": {
           "text": "cluster_id"
          }
         },
         "colorscale": [
          [
           0,
           "#440154"
          ],
          [
           0.1111111111111111,
           "#482878"
          ],
          [
           0.2222222222222222,
           "#3e4989"
          ],
          [
           0.3333333333333333,
           "#31688e"
          ],
          [
           0.4444444444444444,
           "#26828e"
          ],
          [
           0.5555555555555556,
           "#1f9e89"
          ],
          [
           0.6666666666666666,
           "#35b779"
          ],
          [
           0.7777777777777778,
           "#6ece58"
          ],
          [
           0.8888888888888888,
           "#b5de2b"
          ],
          [
           1,
           "#fde725"
          ]
         ]
        },
        "height": 1000,
        "legend": {
         "tracegroupgap": 0
        },
        "mapbox": {
         "center": {
          "lat": 47.609,
          "lon": -122.334
         },
         "domain": {
          "x": [
           0,
           1
          ],
          "y": [
           0,
           1
          ]
         },
         "style": "carto-positron",
         "zoom": 10.5
        },
        "margin": {
         "b": 0,
         "l": 0,
         "r": 0,
         "t": 0
        },
        "template": {
         "data": {
          "bar": [
           {
            "error_x": {
             "color": "#2a3f5f"
            },
            "error_y": {
             "color": "#2a3f5f"
            },
            "marker": {
             "line": {
              "color": "#E5ECF6",
              "width": 0.5
             },
             "pattern": {
              "fillmode": "overlay",
              "size": 10,
              "solidity": 0.2
             }
            },
            "type": "bar"
           }
          ],
          "barpolar": [
           {
            "marker": {
             "line": {
              "color": "#E5ECF6",
              "width": 0.5
             },
             "pattern": {
              "fillmode": "overlay",
              "size": 10,
              "solidity": 0.2
             }
            },
            "type": "barpolar"
           }
          ],
          "carpet": [
           {
            "aaxis": {
             "endlinecolor": "#2a3f5f",
             "gridcolor": "white",
             "linecolor": "white",
             "minorgridcolor": "white",
             "startlinecolor": "#2a3f5f"
            },
            "baxis": {
             "endlinecolor": "#2a3f5f",
             "gridcolor": "white",
             "linecolor": "white",
             "minorgridcolor": "white",
             "startlinecolor": "#2a3f5f"
            },
            "type": "carpet"
           }
          ],
          "choropleth": [
           {
            "colorbar": {
             "outlinewidth": 0,
             "ticks": ""
            },
            "type": "choropleth"
           }
          ],
          "contour": [
           {
            "colorbar": {
             "outlinewidth": 0,
             "ticks": ""
            },
            "colorscale": [
             [
              0,
              "#0d0887"
             ],
             [
              0.1111111111111111,
              "#46039f"
             ],
             [
              0.2222222222222222,
              "#7201a8"
             ],
             [
              0.3333333333333333,
              "#9c179e"
             ],
             [
              0.4444444444444444,
              "#bd3786"
             ],
             [
              0.5555555555555556,
              "#d8576b"
             ],
             [
              0.6666666666666666,
              "#ed7953"
             ],
             [
              0.7777777777777778,
              "#fb9f3a"
             ],
             [
              0.8888888888888888,
              "#fdca26"
             ],
             [
              1,
              "#f0f921"
             ]
            ],
            "type": "contour"
           }
          ],
          "contourcarpet": [
           {
            "colorbar": {
             "outlinewidth": 0,
             "ticks": ""
            },
            "type": "contourcarpet"
           }
          ],
          "heatmap": [
           {
            "colorbar": {
             "outlinewidth": 0,
             "ticks": ""
            },
            "colorscale": [
             [
              0,
              "#0d0887"
             ],
             [
              0.1111111111111111,
              "#46039f"
             ],
             [
              0.2222222222222222,
              "#7201a8"
             ],
             [
              0.3333333333333333,
              "#9c179e"
             ],
             [
              0.4444444444444444,
              "#bd3786"
             ],
             [
              0.5555555555555556,
              "#d8576b"
             ],
             [
              0.6666666666666666,
              "#ed7953"
             ],
             [
              0.7777777777777778,
              "#fb9f3a"
             ],
             [
              0.8888888888888888,
              "#fdca26"
             ],
             [
              1,
              "#f0f921"
             ]
            ],
            "type": "heatmap"
           }
          ],
          "heatmapgl": [
           {
            "colorbar": {
             "outlinewidth": 0,
             "ticks": ""
            },
            "colorscale": [
             [
              0,
              "#0d0887"
             ],
             [
              0.1111111111111111,
              "#46039f"
             ],
             [
              0.2222222222222222,
              "#7201a8"
             ],
             [
              0.3333333333333333,
              "#9c179e"
             ],
             [
              0.4444444444444444,
              "#bd3786"
             ],
             [
              0.5555555555555556,
              "#d8576b"
             ],
             [
              0.6666666666666666,
              "#ed7953"
             ],
             [
              0.7777777777777778,
              "#fb9f3a"
             ],
             [
              0.8888888888888888,
              "#fdca26"
             ],
             [
              1,
              "#f0f921"
             ]
            ],
            "type": "heatmapgl"
           }
          ],
          "histogram": [
           {
            "marker": {
             "pattern": {
              "fillmode": "overlay",
              "size": 10,
              "solidity": 0.2
             }
            },
            "type": "histogram"
           }
          ],
          "histogram2d": [
           {
            "colorbar": {
             "outlinewidth": 0,
             "ticks": ""
            },
            "colorscale": [
             [
              0,
              "#0d0887"
             ],
             [
              0.1111111111111111,
              "#46039f"
             ],
             [
              0.2222222222222222,
              "#7201a8"
             ],
             [
              0.3333333333333333,
              "#9c179e"
             ],
             [
              0.4444444444444444,
              "#bd3786"
             ],
             [
              0.5555555555555556,
              "#d8576b"
             ],
             [
              0.6666666666666666,
              "#ed7953"
             ],
             [
              0.7777777777777778,
              "#fb9f3a"
             ],
             [
              0.8888888888888888,
              "#fdca26"
             ],
             [
              1,
              "#f0f921"
             ]
            ],
            "type": "histogram2d"
           }
          ],
          "histogram2dcontour": [
           {
            "colorbar": {
             "outlinewidth": 0,
             "ticks": ""
            },
            "colorscale": [
             [
              0,
              "#0d0887"
             ],
             [
              0.1111111111111111,
              "#46039f"
             ],
             [
              0.2222222222222222,
              "#7201a8"
             ],
             [
              0.3333333333333333,
              "#9c179e"
             ],
             [
              0.4444444444444444,
              "#bd3786"
             ],
             [
              0.5555555555555556,
              "#d8576b"
             ],
             [
              0.6666666666666666,
              "#ed7953"
             ],
             [
              0.7777777777777778,
              "#fb9f3a"
             ],
             [
              0.8888888888888888,
              "#fdca26"
             ],
             [
              1,
              "#f0f921"
             ]
            ],
            "type": "histogram2dcontour"
           }
          ],
          "mesh3d": [
           {
            "colorbar": {
             "outlinewidth": 0,
             "ticks": ""
            },
            "type": "mesh3d"
           }
          ],
          "parcoords": [
           {
            "line": {
             "colorbar": {
              "outlinewidth": 0,
              "ticks": ""
             }
            },
            "type": "parcoords"
           }
          ],
          "pie": [
           {
            "automargin": true,
            "type": "pie"
           }
          ],
          "scatter": [
           {
            "marker": {
             "colorbar": {
              "outlinewidth": 0,
              "ticks": ""
             }
            },
            "type": "scatter"
           }
          ],
          "scatter3d": [
           {
            "line": {
             "colorbar": {
              "outlinewidth": 0,
              "ticks": ""
             }
            },
            "marker": {
             "colorbar": {
              "outlinewidth": 0,
              "ticks": ""
             }
            },
            "type": "scatter3d"
           }
          ],
          "scattercarpet": [
           {
            "marker": {
             "colorbar": {
              "outlinewidth": 0,
              "ticks": ""
             }
            },
            "type": "scattercarpet"
           }
          ],
          "scattergeo": [
           {
            "marker": {
             "colorbar": {
              "outlinewidth": 0,
              "ticks": ""
             }
            },
            "type": "scattergeo"
           }
          ],
          "scattergl": [
           {
            "marker": {
             "colorbar": {
              "outlinewidth": 0,
              "ticks": ""
             }
            },
            "type": "scattergl"
           }
          ],
          "scattermapbox": [
           {
            "marker": {
             "colorbar": {
              "outlinewidth": 0,
              "ticks": ""
             }
            },
            "type": "scattermapbox"
           }
          ],
          "scatterpolar": [
           {
            "marker": {
             "colorbar": {
              "outlinewidth": 0,
              "ticks": ""
             }
            },
            "type": "scatterpolar"
           }
          ],
          "scatterpolargl": [
           {
            "marker": {
             "colorbar": {
              "outlinewidth": 0,
              "ticks": ""
             }
            },
            "type": "scatterpolargl"
           }
          ],
          "scatterternary": [
           {
            "marker": {
             "colorbar": {
              "outlinewidth": 0,
              "ticks": ""
             }
            },
            "type": "scatterternary"
           }
          ],
          "surface": [
           {
            "colorbar": {
             "outlinewidth": 0,
             "ticks": ""
            },
            "colorscale": [
             [
              0,
              "#0d0887"
             ],
             [
              0.1111111111111111,
              "#46039f"
             ],
             [
              0.2222222222222222,
              "#7201a8"
             ],
             [
              0.3333333333333333,
              "#9c179e"
             ],
             [
              0.4444444444444444,
              "#bd3786"
             ],
             [
              0.5555555555555556,
              "#d8576b"
             ],
             [
              0.6666666666666666,
              "#ed7953"
             ],
             [
              0.7777777777777778,
              "#fb9f3a"
             ],
             [
              0.8888888888888888,
              "#fdca26"
             ],
             [
              1,
              "#f0f921"
             ]
            ],
            "type": "surface"
           }
          ],
          "table": [
           {
            "cells": {
             "fill": {
              "color": "#EBF0F8"
             },
             "line": {
              "color": "white"
             }
            },
            "header": {
             "fill": {
              "color": "#C8D4E3"
             },
             "line": {
              "color": "white"
             }
            },
            "type": "table"
           }
          ]
         },
         "layout": {
          "annotationdefaults": {
           "arrowcolor": "#2a3f5f",
           "arrowhead": 0,
           "arrowwidth": 1
          },
          "autotypenumbers": "strict",
          "coloraxis": {
           "colorbar": {
            "outlinewidth": 0,
            "ticks": ""
           }
          },
          "colorscale": {
           "diverging": [
            [
             0,
             "#8e0152"
            ],
            [
             0.1,
             "#c51b7d"
            ],
            [
             0.2,
             "#de77ae"
            ],
            [
             0.3,
             "#f1b6da"
            ],
            [
             0.4,
             "#fde0ef"
            ],
            [
             0.5,
             "#f7f7f7"
            ],
            [
             0.6,
             "#e6f5d0"
            ],
            [
             0.7,
             "#b8e186"
            ],
            [
             0.8,
             "#7fbc41"
            ],
            [
             0.9,
             "#4d9221"
            ],
            [
             1,
             "#276419"
            ]
           ],
           "sequential": [
            [
             0,
             "#0d0887"
            ],
            [
             0.1111111111111111,
             "#46039f"
            ],
            [
             0.2222222222222222,
             "#7201a8"
            ],
            [
             0.3333333333333333,
             "#9c179e"
            ],
            [
             0.4444444444444444,
             "#bd3786"
            ],
            [
             0.5555555555555556,
             "#d8576b"
            ],
            [
             0.6666666666666666,
             "#ed7953"
            ],
            [
             0.7777777777777778,
             "#fb9f3a"
            ],
            [
             0.8888888888888888,
             "#fdca26"
            ],
            [
             1,
             "#f0f921"
            ]
           ],
           "sequentialminus": [
            [
             0,
             "#0d0887"
            ],
            [
             0.1111111111111111,
             "#46039f"
            ],
            [
             0.2222222222222222,
             "#7201a8"
            ],
            [
             0.3333333333333333,
             "#9c179e"
            ],
            [
             0.4444444444444444,
             "#bd3786"
            ],
            [
             0.5555555555555556,
             "#d8576b"
            ],
            [
             0.6666666666666666,
             "#ed7953"
            ],
            [
             0.7777777777777778,
             "#fb9f3a"
            ],
            [
             0.8888888888888888,
             "#fdca26"
            ],
            [
             1,
             "#f0f921"
            ]
           ]
          },
          "colorway": [
           "#636efa",
           "#EF553B",
           "#00cc96",
           "#ab63fa",
           "#FFA15A",
           "#19d3f3",
           "#FF6692",
           "#B6E880",
           "#FF97FF",
           "#FECB52"
          ],
          "font": {
           "color": "#2a3f5f"
          },
          "geo": {
           "bgcolor": "white",
           "lakecolor": "white",
           "landcolor": "#E5ECF6",
           "showlakes": true,
           "showland": true,
           "subunitcolor": "white"
          },
          "hoverlabel": {
           "align": "left"
          },
          "hovermode": "closest",
          "mapbox": {
           "style": "light"
          },
          "paper_bgcolor": "white",
          "plot_bgcolor": "#E5ECF6",
          "polar": {
           "angularaxis": {
            "gridcolor": "white",
            "linecolor": "white",
            "ticks": ""
           },
           "bgcolor": "#E5ECF6",
           "radialaxis": {
            "gridcolor": "white",
            "linecolor": "white",
            "ticks": ""
           }
          },
          "scene": {
           "xaxis": {
            "backgroundcolor": "#E5ECF6",
            "gridcolor": "white",
            "gridwidth": 2,
            "linecolor": "white",
            "showbackground": true,
            "ticks": "",
            "zerolinecolor": "white"
           },
           "yaxis": {
            "backgroundcolor": "#E5ECF6",
            "gridcolor": "white",
            "gridwidth": 2,
            "linecolor": "white",
            "showbackground": true,
            "ticks": "",
            "zerolinecolor": "white"
           },
           "zaxis": {
            "backgroundcolor": "#E5ECF6",
            "gridcolor": "white",
            "gridwidth": 2,
            "linecolor": "white",
            "showbackground": true,
            "ticks": "",
            "zerolinecolor": "white"
           }
          },
          "shapedefaults": {
           "line": {
            "color": "#2a3f5f"
           }
          },
          "ternary": {
           "aaxis": {
            "gridcolor": "white",
            "linecolor": "white",
            "ticks": ""
           },
           "baxis": {
            "gridcolor": "white",
            "linecolor": "white",
            "ticks": ""
           },
           "bgcolor": "#E5ECF6",
           "caxis": {
            "gridcolor": "white",
            "linecolor": "white",
            "ticks": ""
           }
          },
          "title": {
           "x": 0.05
          },
          "xaxis": {
           "automargin": true,
           "gridcolor": "white",
           "linecolor": "white",
           "ticks": "",
           "title": {
            "standoff": 15
           },
           "zerolinecolor": "white",
           "zerolinewidth": 2
          },
          "yaxis": {
           "automargin": true,
           "gridcolor": "white",
           "linecolor": "white",
           "ticks": "",
           "title": {
            "standoff": 15
           },
           "zerolinecolor": "white",
           "zerolinewidth": 2
          }
         }
        },
        "width": 1000
       }
      }
     },
     "metadata": {},
     "output_type": "display_data"
    }
   ],
   "source": [
    "fig = px.choropleth_mapbox(zipcode_centroids,\n",
    "                        geojson=zipcodes, \n",
    "                        locations='zipcode', \n",
    "                        featureidkey=\"properties.ZCTA5CE10\", \n",
    "                        color='cluster_id',\n",
    "                        color_continuous_scale=\"viridis\",\n",
    "                        mapbox_style=\"carto-positron\",\n",
    "                        zoom=10.5, center={\"lat\": 47.609, \"lon\": -122.334},\n",
    "                        opacity=0.7\n",
    ")\n",
    "fig.update_layout(height=1000, width=1000, margin={\"r\":0,\"t\":0,\"l\":0,\"b\":0})\n",
    "fig.show()\n"
   ]
  },
  {
   "cell_type": "code",
   "execution_count": 21,
   "metadata": {},
   "outputs": [],
   "source": [
    "# adjust zipcode 98112 to cluster 5 (yellow)\n",
    "zipcode_centroids.cluster_id = np.where(zipcode_centroids.zipcode == 98112, 5, zipcode_centroids.cluster_id)"
   ]
  },
  {
   "cell_type": "code",
   "execution_count": 22,
   "metadata": {},
   "outputs": [],
   "source": [
    "zipcode_centroids.zipcode = zipcode_centroids.zipcode.astype(str)\n",
    "zipcode_centroids.set_index('zipcode', inplace=True)"
   ]
  },
  {
   "cell_type": "code",
   "execution_count": 23,
   "metadata": {},
   "outputs": [],
   "source": [
    "# Save the zipcode cluster ID's \n",
    "# zipcode_centroids.set_index('ZIPCODE', inplace=True)\n",
    "cluster_id = zipcode_centroids.cluster_id.to_dict()\n",
    "\n",
    "with open('./data/seattle_zipcode_clusters.pickle', 'wb') as handle:\n",
    "    pkl.dump(cluster_id, handle)"
   ]
  },
  {
   "cell_type": "code",
   "execution_count": null,
   "metadata": {},
   "outputs": [],
   "source": []
  }
 ],
 "metadata": {
  "interpreter": {
   "hash": "40d3a090f54c6569ab1632332b64b2c03c39dcf918b08424e98f38b5ae0af88f"
  },
  "kernelspec": {
   "display_name": "Python 3.9.7 ('base')",
   "language": "python",
   "name": "python3"
  },
  "language_info": {
   "codemirror_mode": {
    "name": "ipython",
    "version": 3
   },
   "file_extension": ".py",
   "mimetype": "text/x-python",
   "name": "python",
   "nbconvert_exporter": "python",
   "pygments_lexer": "ipython3",
   "version": "3.9.7"
  },
  "orig_nbformat": 4
 },
 "nbformat": 4,
 "nbformat_minor": 2
}
